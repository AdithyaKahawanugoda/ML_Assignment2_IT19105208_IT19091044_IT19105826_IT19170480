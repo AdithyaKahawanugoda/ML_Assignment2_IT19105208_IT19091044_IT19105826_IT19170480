{
  "nbformat": 4,
  "nbformat_minor": 0,
  "metadata": {
    "colab": {
      "name": "text-classification.ipynb",
      "provenance": [],
      "collapsed_sections": []
    },
    "kernelspec": {
      "name": "python3",
      "display_name": "Python 3"
    },
    "language_info": {
      "name": "python"
    }
  },
  "cells": [
    {
      "cell_type": "markdown",
      "source": [
        "**==== 1 - Data import and pre-processing ====**"
      ],
      "metadata": {
        "id": "FHC39MQiH1id"
      }
    },
    {
      "cell_type": "code",
      "execution_count": 1,
      "metadata": {
        "id": "ya9n59z26xPw",
        "colab": {
          "base_uri": "https://localhost:8080/"
        },
        "outputId": "144e988a-0f58-4be8-cc28-329f32d0b8e2"
      },
      "outputs": [
        {
          "output_type": "stream",
          "name": "stdout",
          "text": [
            "--2022-05-28 05:42:53--  https://files.consumerfinance.gov/ccdb/complaints.csv.zip\n",
            "Resolving files.consumerfinance.gov (files.consumerfinance.gov)... 18.67.76.96, 18.67.76.30, 18.67.76.63, ...\n",
            "Connecting to files.consumerfinance.gov (files.consumerfinance.gov)|18.67.76.96|:443... connected.\n",
            "HTTP request sent, awaiting response... 200 OK\n",
            "Length: 443784008 (423M) [binary/octet-stream]\n",
            "Saving to: ‘complaints.csv.zip’\n",
            "\n",
            "complaints.csv.zip  100%[===================>] 423.22M   172MB/s    in 2.5s    \n",
            "\n",
            "2022-05-28 05:42:56 (172 MB/s) - ‘complaints.csv.zip’ saved [443784008/443784008]\n",
            "\n",
            "Archive:  /content/complaints.csv.zip\n",
            "  inflating: /content/complaints.csv/complaints.csv  \n",
            "Looking in indexes: https://pypi.org/simple, https://us-python.pkg.dev/colab-wheels/public/simple/\n",
            "Requirement already satisfied: nltk in /usr/local/lib/python3.7/dist-packages (3.2.5)\n",
            "Requirement already satisfied: six in /usr/local/lib/python3.7/dist-packages (from nltk) (1.15.0)\n"
          ]
        }
      ],
      "source": [
        "# dwonload and unzip dataset\n",
        "!wget https://files.consumerfinance.gov/ccdb/complaints.csv.zip\n",
        "!unzip /content/complaints.csv.zip -d /content/complaints.csv\n",
        "# install NLTK\n",
        "!pip install nltk"
      ]
    },
    {
      "cell_type": "code",
      "source": [
        "# import required libraries\n",
        "import pandas as pd\n",
        "import numpy as np\n",
        "import matplotlib.pyplot as plt\n",
        "import nltk\n",
        "import re\n",
        "import seaborn as sns\n",
        "\n",
        "from sklearn.model_selection import train_test_split\n",
        "\n",
        "from sklearn.feature_extraction.text import TfidfVectorizer\n",
        "from sklearn.feature_extraction.text import CountVectorizer\n",
        "from sklearn.feature_extraction.text import TfidfTransformer\n",
        "from sklearn.feature_selection import chi2\n",
        "from sklearn import metrics\n",
        "\n",
        "from sklearn.naive_bayes import MultinomialNB\n",
        "from sklearn.linear_model import LogisticRegression\n",
        "from sklearn.ensemble import RandomForestClassifier\n",
        "from sklearn.svm import LinearSVC\n",
        "from sklearn.model_selection import cross_val_score\n",
        "from io import StringIO\n",
        "\n",
        "from nltk.stem.snowball import SnowballStemmer\n",
        "\n",
        "from IPython.display import display"
      ],
      "metadata": {
        "id": "m0NDpWG369U4"
      },
      "execution_count": 2,
      "outputs": []
    },
    {
      "cell_type": "code",
      "source": [
        "# load data into a pandas dataframe from csv file\n",
        "df = pd.read_csv(\"/content/complaints.csv/complaints.csv\",low_memory=False)\n",
        "df.shape"
      ],
      "metadata": {
        "colab": {
          "base_uri": "https://localhost:8080/"
        },
        "id": "-QYAUg_w7BQE",
        "outputId": "a61d9687-6919-4d2c-dd0d-a40f35c56910"
      },
      "execution_count": 3,
      "outputs": [
        {
          "output_type": "execute_result",
          "data": {
            "text/plain": [
              "(2693834, 18)"
            ]
          },
          "metadata": {},
          "execution_count": 3
        }
      ]
    },
    {
      "cell_type": "code",
      "source": [
        "# seperate Product & Consumer Complaints columns from initial dataframe\n",
        "col = ['Product', 'Consumer complaint narrative']\n",
        "df = df[col]"
      ],
      "metadata": {
        "id": "K2YspYLv7IR8"
      },
      "execution_count": 4,
      "outputs": []
    },
    {
      "cell_type": "code",
      "source": [
        "df['Product'].value_counts()"
      ],
      "metadata": {
        "colab": {
          "base_uri": "https://localhost:8080/"
        },
        "id": "Pn7EDR1bK-Kr",
        "outputId": "5b5c5f88-de8b-4c9e-a65a-87f969704ded"
      },
      "execution_count": 5,
      "outputs": [
        {
          "output_type": "execute_result",
          "data": {
            "text/plain": [
              "Credit reporting, credit repair services, or other personal consumer reports    1119247\n",
              "Debt collection                                                                  425150\n",
              "Mortgage                                                                         354535\n",
              "Credit card or prepaid card                                                      145184\n",
              "Credit reporting                                                                 140430\n",
              "Checking or savings account                                                      123369\n",
              "Credit card                                                                       89190\n",
              "Bank account or service                                                           86206\n",
              "Student loan                                                                      67011\n",
              "Money transfer, virtual currency, or money service                                40671\n",
              "Vehicle loan or lease                                                             33068\n",
              "Consumer Loan                                                                     31600\n",
              "Payday loan, title loan, or personal loan                                         22381\n",
              "Payday loan                                                                        5543\n",
              "Money transfers                                                                    5354\n",
              "Prepaid card                                                                       3819\n",
              "Other financial service                                                            1058\n",
              "Virtual currency                                                                     18\n",
              "Name: Product, dtype: int64"
            ]
          },
          "metadata": {},
          "execution_count": 5
        }
      ]
    },
    {
      "cell_type": "code",
      "source": [
        "# check null values on complaints\n",
        "df.isnull().sum()"
      ],
      "metadata": {
        "colab": {
          "base_uri": "https://localhost:8080/"
        },
        "id": "99tzg20yIoSm",
        "outputId": "7eca419c-d001-44e6-a34c-8ce44f5c0e5f"
      },
      "execution_count": 6,
      "outputs": [
        {
          "output_type": "execute_result",
          "data": {
            "text/plain": [
              "Product                               0\n",
              "Consumer complaint narrative    1750971\n",
              "dtype: int64"
            ]
          },
          "metadata": {},
          "execution_count": 6
        }
      ]
    },
    {
      "cell_type": "code",
      "source": [
        "# keep only 'not null' complaints rows\n",
        "df = df[pd.notnull(df['Consumer complaint narrative'])] \n",
        "df.shape"
      ],
      "metadata": {
        "colab": {
          "base_uri": "https://localhost:8080/"
        },
        "id": "R666_JQQHHu4",
        "outputId": "659400e6-bd20-4732-c497-5b8ae457766b"
      },
      "execution_count": 7,
      "outputs": [
        {
          "output_type": "execute_result",
          "data": {
            "text/plain": [
              "(942863, 2)"
            ]
          },
          "metadata": {},
          "execution_count": 7
        }
      ]
    },
    {
      "cell_type": "code",
      "source": [
        "# since the dataset is imbalanced\n",
        "# remove products with complaints < 10,000\n",
        "# remove products with complaints > 100,000 \n",
        "counts = df['Product'].value_counts()\n",
        "df = df[~df['Product'].isin(counts[counts < 10000].index)]\n",
        "df = df[~df['Product'].isin(counts[counts > 100000].index)]\n",
        "df.shape"
      ],
      "metadata": {
        "colab": {
          "base_uri": "https://localhost:8080/"
        },
        "id": "O0Z03G577M0q",
        "outputId": "4e6e6002-7487-4c97-e652-2080e770e899"
      },
      "execution_count": 8,
      "outputs": [
        {
          "output_type": "execute_result",
          "data": {
            "text/plain": [
              "(357009, 2)"
            ]
          },
          "metadata": {},
          "execution_count": 8
        }
      ]
    },
    {
      "cell_type": "code",
      "source": [
        "df['Product'].value_counts()"
      ],
      "metadata": {
        "colab": {
          "base_uri": "https://localhost:8080/"
        },
        "id": "r5IxRzmPKqGN",
        "outputId": "599ee5ae-e945-4a8f-afef-a3335a9c500c"
      },
      "execution_count": 9,
      "outputs": [
        {
          "output_type": "execute_result",
          "data": {
            "text/plain": [
              "Mortgage                                              91969\n",
              "Credit card or prepaid card                           71415\n",
              "Checking or savings account                           45394\n",
              "Credit reporting                                      31588\n",
              "Student loan                                          30813\n",
              "Money transfer, virtual currency, or money service    22485\n",
              "Credit card                                           18838\n",
              "Vehicle loan or lease                                 17640\n",
              "Bank account or service                               14885\n",
              "Payday loan, title loan, or personal loan             11982\n",
              "Name: Product, dtype: int64"
            ]
          },
          "metadata": {},
          "execution_count": 9
        }
      ]
    },
    {
      "cell_type": "code",
      "source": [
        "# remove duplicated rows in dataframe\n",
        "df = df.drop_duplicates(keep=\"first\")\n",
        "df.shape"
      ],
      "metadata": {
        "colab": {
          "base_uri": "https://localhost:8080/"
        },
        "id": "wailA7l77Pkl",
        "outputId": "4a6d20d6-2c13-4db2-beee-61991161446b"
      },
      "execution_count": 10,
      "outputs": [
        {
          "output_type": "execute_result",
          "data": {
            "text/plain": [
              "(353019, 2)"
            ]
          },
          "metadata": {},
          "execution_count": 10
        }
      ]
    },
    {
      "cell_type": "code",
      "source": [
        "df['Product'].value_counts()"
      ],
      "metadata": {
        "colab": {
          "base_uri": "https://localhost:8080/"
        },
        "id": "_nnNHpNWJgBB",
        "outputId": "21167b2d-2383-40c0-d298-299936222741"
      },
      "execution_count": 11,
      "outputs": [
        {
          "output_type": "execute_result",
          "data": {
            "text/plain": [
              "Mortgage                                              91837\n",
              "Credit card or prepaid card                           70241\n",
              "Checking or savings account                           45341\n",
              "Student loan                                          30670\n",
              "Credit reporting                                      29827\n",
              "Money transfer, virtual currency, or money service    22199\n",
              "Credit card                                           18757\n",
              "Vehicle loan or lease                                 17357\n",
              "Bank account or service                               14856\n",
              "Payday loan, title loan, or personal loan             11934\n",
              "Name: Product, dtype: int64"
            ]
          },
          "metadata": {},
          "execution_count": 11
        }
      ]
    },
    {
      "cell_type": "code",
      "source": [
        "# overwrite colum names into 'Product' & 'Consumer_Complaint'\n",
        "df.columns = ['Product', 'Consumer_Complaint']\n",
        "df"
      ],
      "metadata": {
        "colab": {
          "base_uri": "https://localhost:8080/",
          "height": 424
        },
        "id": "wcvT0ez38SO_",
        "outputId": "165078f7-8745-4a3c-f428-53f15808e387"
      },
      "execution_count": 12,
      "outputs": [
        {
          "output_type": "execute_result",
          "data": {
            "text/plain": [
              "                             Product  \\\n",
              "54       Credit card or prepaid card   \n",
              "108      Credit card or prepaid card   \n",
              "125      Credit card or prepaid card   \n",
              "138            Vehicle loan or lease   \n",
              "147            Vehicle loan or lease   \n",
              "...                              ...   \n",
              "2693824                  Credit card   \n",
              "2693826             Credit reporting   \n",
              "2693828                  Credit card   \n",
              "2693830                     Mortgage   \n",
              "2693831             Credit reporting   \n",
              "\n",
              "                                        Consumer_Complaint  \n",
              "54       Please reopen case XXXX, Nothing has been reso...  \n",
              "108      This was not sent is error i am a consumer by ...  \n",
              "125      I bought 2 {$100.00} XXXX gift cards at XXXX a...  \n",
              "138      Sun coast credit union committed insurance fra...  \n",
              "147      Kia Finance is showing I have a {$10.00} curre...  \n",
              "...                                                    ...  \n",
              "2693824  A reward coupon from XXXX expired and American...  \n",
              "2693826  Wrong name no XXXX XXXX XXXX and wrong address...  \n",
              "2693828  Automated calls from \" XXXX with Capital One '...  \n",
              "2693830  My father died in XX/XX/XXXX. Left me his only...  \n",
              "2693831  cfbp i would Like to file a complaint on Exper...  \n",
              "\n",
              "[353019 rows x 2 columns]"
            ],
            "text/html": [
              "\n",
              "  <div id=\"df-c6d66e16-7fde-4463-a5d6-76338c59edf6\">\n",
              "    <div class=\"colab-df-container\">\n",
              "      <div>\n",
              "<style scoped>\n",
              "    .dataframe tbody tr th:only-of-type {\n",
              "        vertical-align: middle;\n",
              "    }\n",
              "\n",
              "    .dataframe tbody tr th {\n",
              "        vertical-align: top;\n",
              "    }\n",
              "\n",
              "    .dataframe thead th {\n",
              "        text-align: right;\n",
              "    }\n",
              "</style>\n",
              "<table border=\"1\" class=\"dataframe\">\n",
              "  <thead>\n",
              "    <tr style=\"text-align: right;\">\n",
              "      <th></th>\n",
              "      <th>Product</th>\n",
              "      <th>Consumer_Complaint</th>\n",
              "    </tr>\n",
              "  </thead>\n",
              "  <tbody>\n",
              "    <tr>\n",
              "      <th>54</th>\n",
              "      <td>Credit card or prepaid card</td>\n",
              "      <td>Please reopen case XXXX, Nothing has been reso...</td>\n",
              "    </tr>\n",
              "    <tr>\n",
              "      <th>108</th>\n",
              "      <td>Credit card or prepaid card</td>\n",
              "      <td>This was not sent is error i am a consumer by ...</td>\n",
              "    </tr>\n",
              "    <tr>\n",
              "      <th>125</th>\n",
              "      <td>Credit card or prepaid card</td>\n",
              "      <td>I bought 2 {$100.00} XXXX gift cards at XXXX a...</td>\n",
              "    </tr>\n",
              "    <tr>\n",
              "      <th>138</th>\n",
              "      <td>Vehicle loan or lease</td>\n",
              "      <td>Sun coast credit union committed insurance fra...</td>\n",
              "    </tr>\n",
              "    <tr>\n",
              "      <th>147</th>\n",
              "      <td>Vehicle loan or lease</td>\n",
              "      <td>Kia Finance is showing I have a {$10.00} curre...</td>\n",
              "    </tr>\n",
              "    <tr>\n",
              "      <th>...</th>\n",
              "      <td>...</td>\n",
              "      <td>...</td>\n",
              "    </tr>\n",
              "    <tr>\n",
              "      <th>2693824</th>\n",
              "      <td>Credit card</td>\n",
              "      <td>A reward coupon from XXXX expired and American...</td>\n",
              "    </tr>\n",
              "    <tr>\n",
              "      <th>2693826</th>\n",
              "      <td>Credit reporting</td>\n",
              "      <td>Wrong name no XXXX XXXX XXXX and wrong address...</td>\n",
              "    </tr>\n",
              "    <tr>\n",
              "      <th>2693828</th>\n",
              "      <td>Credit card</td>\n",
              "      <td>Automated calls from \" XXXX with Capital One '...</td>\n",
              "    </tr>\n",
              "    <tr>\n",
              "      <th>2693830</th>\n",
              "      <td>Mortgage</td>\n",
              "      <td>My father died in XX/XX/XXXX. Left me his only...</td>\n",
              "    </tr>\n",
              "    <tr>\n",
              "      <th>2693831</th>\n",
              "      <td>Credit reporting</td>\n",
              "      <td>cfbp i would Like to file a complaint on Exper...</td>\n",
              "    </tr>\n",
              "  </tbody>\n",
              "</table>\n",
              "<p>353019 rows × 2 columns</p>\n",
              "</div>\n",
              "      <button class=\"colab-df-convert\" onclick=\"convertToInteractive('df-c6d66e16-7fde-4463-a5d6-76338c59edf6')\"\n",
              "              title=\"Convert this dataframe to an interactive table.\"\n",
              "              style=\"display:none;\">\n",
              "        \n",
              "  <svg xmlns=\"http://www.w3.org/2000/svg\" height=\"24px\"viewBox=\"0 0 24 24\"\n",
              "       width=\"24px\">\n",
              "    <path d=\"M0 0h24v24H0V0z\" fill=\"none\"/>\n",
              "    <path d=\"M18.56 5.44l.94 2.06.94-2.06 2.06-.94-2.06-.94-.94-2.06-.94 2.06-2.06.94zm-11 1L8.5 8.5l.94-2.06 2.06-.94-2.06-.94L8.5 2.5l-.94 2.06-2.06.94zm10 10l.94 2.06.94-2.06 2.06-.94-2.06-.94-.94-2.06-.94 2.06-2.06.94z\"/><path d=\"M17.41 7.96l-1.37-1.37c-.4-.4-.92-.59-1.43-.59-.52 0-1.04.2-1.43.59L10.3 9.45l-7.72 7.72c-.78.78-.78 2.05 0 2.83L4 21.41c.39.39.9.59 1.41.59.51 0 1.02-.2 1.41-.59l7.78-7.78 2.81-2.81c.8-.78.8-2.07 0-2.86zM5.41 20L4 18.59l7.72-7.72 1.47 1.35L5.41 20z\"/>\n",
              "  </svg>\n",
              "      </button>\n",
              "      \n",
              "  <style>\n",
              "    .colab-df-container {\n",
              "      display:flex;\n",
              "      flex-wrap:wrap;\n",
              "      gap: 12px;\n",
              "    }\n",
              "\n",
              "    .colab-df-convert {\n",
              "      background-color: #E8F0FE;\n",
              "      border: none;\n",
              "      border-radius: 50%;\n",
              "      cursor: pointer;\n",
              "      display: none;\n",
              "      fill: #1967D2;\n",
              "      height: 32px;\n",
              "      padding: 0 0 0 0;\n",
              "      width: 32px;\n",
              "    }\n",
              "\n",
              "    .colab-df-convert:hover {\n",
              "      background-color: #E2EBFA;\n",
              "      box-shadow: 0px 1px 2px rgba(60, 64, 67, 0.3), 0px 1px 3px 1px rgba(60, 64, 67, 0.15);\n",
              "      fill: #174EA6;\n",
              "    }\n",
              "\n",
              "    [theme=dark] .colab-df-convert {\n",
              "      background-color: #3B4455;\n",
              "      fill: #D2E3FC;\n",
              "    }\n",
              "\n",
              "    [theme=dark] .colab-df-convert:hover {\n",
              "      background-color: #434B5C;\n",
              "      box-shadow: 0px 1px 3px 1px rgba(0, 0, 0, 0.15);\n",
              "      filter: drop-shadow(0px 1px 2px rgba(0, 0, 0, 0.3));\n",
              "      fill: #FFFFFF;\n",
              "    }\n",
              "  </style>\n",
              "\n",
              "      <script>\n",
              "        const buttonEl =\n",
              "          document.querySelector('#df-c6d66e16-7fde-4463-a5d6-76338c59edf6 button.colab-df-convert');\n",
              "        buttonEl.style.display =\n",
              "          google.colab.kernel.accessAllowed ? 'block' : 'none';\n",
              "\n",
              "        async function convertToInteractive(key) {\n",
              "          const element = document.querySelector('#df-c6d66e16-7fde-4463-a5d6-76338c59edf6');\n",
              "          const dataTable =\n",
              "            await google.colab.kernel.invokeFunction('convertToInteractive',\n",
              "                                                     [key], {});\n",
              "          if (!dataTable) return;\n",
              "\n",
              "          const docLinkHtml = 'Like what you see? Visit the ' +\n",
              "            '<a target=\"_blank\" href=https://colab.research.google.com/notebooks/data_table.ipynb>data table notebook</a>'\n",
              "            + ' to learn more about interactive tables.';\n",
              "          element.innerHTML = '';\n",
              "          dataTable['output_type'] = 'display_data';\n",
              "          await google.colab.output.renderOutput(dataTable, element);\n",
              "          const docLink = document.createElement('div');\n",
              "          docLink.innerHTML = docLinkHtml;\n",
              "          element.appendChild(docLink);\n",
              "        }\n",
              "      </script>\n",
              "    </div>\n",
              "  </div>\n",
              "  "
            ]
          },
          "metadata": {},
          "execution_count": 12
        }
      ]
    },
    {
      "cell_type": "code",
      "source": [
        "# convert complaints data into lowercase\n",
        "# tf-idf cares very much whether words are capitalized or not. \n",
        "# They're different words as far as the algorithm can tell. This is why normalization (lower-casing in this case) is so important.\n",
        "# df[\"Consumer_Complaint\"] = df[\"Consumer_Complaint\"].str.lower()\n",
        "# df"
      ],
      "metadata": {
        "id": "jp4P5-kel4Iq"
      },
      "execution_count": 13,
      "outputs": []
    },
    {
      "cell_type": "code",
      "source": [
        "np.random.seed(10)\n",
        "remove_n = 200000\n",
        "drop_indices = np.random.choice(df.index, remove_n, replace=False)\n",
        "df = df.drop(drop_indices)\n",
        "df.shape"
      ],
      "metadata": {
        "id": "JbWUIcD7NLU8"
      },
      "execution_count": null,
      "outputs": []
    },
    {
      "cell_type": "code",
      "source": [
        "# manually add specific id to each product type\n",
        "# cid={'Credit reporting':0, 'Student loan':1, 'Mortgage':2, 'Debt collection':3, 'Vehicle loan or lease':4, 'Credit card or prepaid card':5, 'Checking or savings account':6, 'Money transfer, virtual currency, or money service':7, 'Credit card':8, 'Payday loan, title loan, or personal loan':9, 'Bank account or service':10}\n",
        "# df['cid']=df['Product'].map(cid)\n",
        "df['cid'] = df['Product'].factorize()[0]\n",
        "df"
      ],
      "metadata": {
        "colab": {
          "base_uri": "https://localhost:8080/",
          "height": 424
        },
        "id": "fXCiiGKX7TGk",
        "outputId": "5eafe366-925a-4c20-c0e7-e871228175d3"
      },
      "execution_count": 14,
      "outputs": [
        {
          "output_type": "execute_result",
          "data": {
            "text/plain": [
              "                             Product  \\\n",
              "54       Credit card or prepaid card   \n",
              "108      Credit card or prepaid card   \n",
              "125      Credit card or prepaid card   \n",
              "138            Vehicle loan or lease   \n",
              "147            Vehicle loan or lease   \n",
              "...                              ...   \n",
              "2693824                  Credit card   \n",
              "2693826             Credit reporting   \n",
              "2693828                  Credit card   \n",
              "2693830                     Mortgage   \n",
              "2693831             Credit reporting   \n",
              "\n",
              "                                        Consumer_Complaint  cid  \n",
              "54       Please reopen case XXXX, Nothing has been reso...    0  \n",
              "108      This was not sent is error i am a consumer by ...    0  \n",
              "125      I bought 2 {$100.00} XXXX gift cards at XXXX a...    0  \n",
              "138      Sun coast credit union committed insurance fra...    1  \n",
              "147      Kia Finance is showing I have a {$10.00} curre...    1  \n",
              "...                                                    ...  ...  \n",
              "2693824  A reward coupon from XXXX expired and American...    9  \n",
              "2693826  Wrong name no XXXX XXXX XXXX and wrong address...    7  \n",
              "2693828  Automated calls from \" XXXX with Capital One '...    9  \n",
              "2693830  My father died in XX/XX/XXXX. Left me his only...    5  \n",
              "2693831  cfbp i would Like to file a complaint on Exper...    7  \n",
              "\n",
              "[353019 rows x 3 columns]"
            ],
            "text/html": [
              "\n",
              "  <div id=\"df-6512ea1f-c97b-4de9-9c15-3b4c0096819e\">\n",
              "    <div class=\"colab-df-container\">\n",
              "      <div>\n",
              "<style scoped>\n",
              "    .dataframe tbody tr th:only-of-type {\n",
              "        vertical-align: middle;\n",
              "    }\n",
              "\n",
              "    .dataframe tbody tr th {\n",
              "        vertical-align: top;\n",
              "    }\n",
              "\n",
              "    .dataframe thead th {\n",
              "        text-align: right;\n",
              "    }\n",
              "</style>\n",
              "<table border=\"1\" class=\"dataframe\">\n",
              "  <thead>\n",
              "    <tr style=\"text-align: right;\">\n",
              "      <th></th>\n",
              "      <th>Product</th>\n",
              "      <th>Consumer_Complaint</th>\n",
              "      <th>cid</th>\n",
              "    </tr>\n",
              "  </thead>\n",
              "  <tbody>\n",
              "    <tr>\n",
              "      <th>54</th>\n",
              "      <td>Credit card or prepaid card</td>\n",
              "      <td>Please reopen case XXXX, Nothing has been reso...</td>\n",
              "      <td>0</td>\n",
              "    </tr>\n",
              "    <tr>\n",
              "      <th>108</th>\n",
              "      <td>Credit card or prepaid card</td>\n",
              "      <td>This was not sent is error i am a consumer by ...</td>\n",
              "      <td>0</td>\n",
              "    </tr>\n",
              "    <tr>\n",
              "      <th>125</th>\n",
              "      <td>Credit card or prepaid card</td>\n",
              "      <td>I bought 2 {$100.00} XXXX gift cards at XXXX a...</td>\n",
              "      <td>0</td>\n",
              "    </tr>\n",
              "    <tr>\n",
              "      <th>138</th>\n",
              "      <td>Vehicle loan or lease</td>\n",
              "      <td>Sun coast credit union committed insurance fra...</td>\n",
              "      <td>1</td>\n",
              "    </tr>\n",
              "    <tr>\n",
              "      <th>147</th>\n",
              "      <td>Vehicle loan or lease</td>\n",
              "      <td>Kia Finance is showing I have a {$10.00} curre...</td>\n",
              "      <td>1</td>\n",
              "    </tr>\n",
              "    <tr>\n",
              "      <th>...</th>\n",
              "      <td>...</td>\n",
              "      <td>...</td>\n",
              "      <td>...</td>\n",
              "    </tr>\n",
              "    <tr>\n",
              "      <th>2693824</th>\n",
              "      <td>Credit card</td>\n",
              "      <td>A reward coupon from XXXX expired and American...</td>\n",
              "      <td>9</td>\n",
              "    </tr>\n",
              "    <tr>\n",
              "      <th>2693826</th>\n",
              "      <td>Credit reporting</td>\n",
              "      <td>Wrong name no XXXX XXXX XXXX and wrong address...</td>\n",
              "      <td>7</td>\n",
              "    </tr>\n",
              "    <tr>\n",
              "      <th>2693828</th>\n",
              "      <td>Credit card</td>\n",
              "      <td>Automated calls from \" XXXX with Capital One '...</td>\n",
              "      <td>9</td>\n",
              "    </tr>\n",
              "    <tr>\n",
              "      <th>2693830</th>\n",
              "      <td>Mortgage</td>\n",
              "      <td>My father died in XX/XX/XXXX. Left me his only...</td>\n",
              "      <td>5</td>\n",
              "    </tr>\n",
              "    <tr>\n",
              "      <th>2693831</th>\n",
              "      <td>Credit reporting</td>\n",
              "      <td>cfbp i would Like to file a complaint on Exper...</td>\n",
              "      <td>7</td>\n",
              "    </tr>\n",
              "  </tbody>\n",
              "</table>\n",
              "<p>353019 rows × 3 columns</p>\n",
              "</div>\n",
              "      <button class=\"colab-df-convert\" onclick=\"convertToInteractive('df-6512ea1f-c97b-4de9-9c15-3b4c0096819e')\"\n",
              "              title=\"Convert this dataframe to an interactive table.\"\n",
              "              style=\"display:none;\">\n",
              "        \n",
              "  <svg xmlns=\"http://www.w3.org/2000/svg\" height=\"24px\"viewBox=\"0 0 24 24\"\n",
              "       width=\"24px\">\n",
              "    <path d=\"M0 0h24v24H0V0z\" fill=\"none\"/>\n",
              "    <path d=\"M18.56 5.44l.94 2.06.94-2.06 2.06-.94-2.06-.94-.94-2.06-.94 2.06-2.06.94zm-11 1L8.5 8.5l.94-2.06 2.06-.94-2.06-.94L8.5 2.5l-.94 2.06-2.06.94zm10 10l.94 2.06.94-2.06 2.06-.94-2.06-.94-.94-2.06-.94 2.06-2.06.94z\"/><path d=\"M17.41 7.96l-1.37-1.37c-.4-.4-.92-.59-1.43-.59-.52 0-1.04.2-1.43.59L10.3 9.45l-7.72 7.72c-.78.78-.78 2.05 0 2.83L4 21.41c.39.39.9.59 1.41.59.51 0 1.02-.2 1.41-.59l7.78-7.78 2.81-2.81c.8-.78.8-2.07 0-2.86zM5.41 20L4 18.59l7.72-7.72 1.47 1.35L5.41 20z\"/>\n",
              "  </svg>\n",
              "      </button>\n",
              "      \n",
              "  <style>\n",
              "    .colab-df-container {\n",
              "      display:flex;\n",
              "      flex-wrap:wrap;\n",
              "      gap: 12px;\n",
              "    }\n",
              "\n",
              "    .colab-df-convert {\n",
              "      background-color: #E8F0FE;\n",
              "      border: none;\n",
              "      border-radius: 50%;\n",
              "      cursor: pointer;\n",
              "      display: none;\n",
              "      fill: #1967D2;\n",
              "      height: 32px;\n",
              "      padding: 0 0 0 0;\n",
              "      width: 32px;\n",
              "    }\n",
              "\n",
              "    .colab-df-convert:hover {\n",
              "      background-color: #E2EBFA;\n",
              "      box-shadow: 0px 1px 2px rgba(60, 64, 67, 0.3), 0px 1px 3px 1px rgba(60, 64, 67, 0.15);\n",
              "      fill: #174EA6;\n",
              "    }\n",
              "\n",
              "    [theme=dark] .colab-df-convert {\n",
              "      background-color: #3B4455;\n",
              "      fill: #D2E3FC;\n",
              "    }\n",
              "\n",
              "    [theme=dark] .colab-df-convert:hover {\n",
              "      background-color: #434B5C;\n",
              "      box-shadow: 0px 1px 3px 1px rgba(0, 0, 0, 0.15);\n",
              "      filter: drop-shadow(0px 1px 2px rgba(0, 0, 0, 0.3));\n",
              "      fill: #FFFFFF;\n",
              "    }\n",
              "  </style>\n",
              "\n",
              "      <script>\n",
              "        const buttonEl =\n",
              "          document.querySelector('#df-6512ea1f-c97b-4de9-9c15-3b4c0096819e button.colab-df-convert');\n",
              "        buttonEl.style.display =\n",
              "          google.colab.kernel.accessAllowed ? 'block' : 'none';\n",
              "\n",
              "        async function convertToInteractive(key) {\n",
              "          const element = document.querySelector('#df-6512ea1f-c97b-4de9-9c15-3b4c0096819e');\n",
              "          const dataTable =\n",
              "            await google.colab.kernel.invokeFunction('convertToInteractive',\n",
              "                                                     [key], {});\n",
              "          if (!dataTable) return;\n",
              "\n",
              "          const docLinkHtml = 'Like what you see? Visit the ' +\n",
              "            '<a target=\"_blank\" href=https://colab.research.google.com/notebooks/data_table.ipynb>data table notebook</a>'\n",
              "            + ' to learn more about interactive tables.';\n",
              "          element.innerHTML = '';\n",
              "          dataTable['output_type'] = 'display_data';\n",
              "          await google.colab.output.renderOutput(dataTable, element);\n",
              "          const docLink = document.createElement('div');\n",
              "          docLink.innerHTML = docLinkHtml;\n",
              "          element.appendChild(docLink);\n",
              "        }\n",
              "      </script>\n",
              "    </div>\n",
              "  </div>\n",
              "  "
            ]
          },
          "metadata": {},
          "execution_count": 14
        }
      ]
    },
    {
      "cell_type": "code",
      "source": [
        "df['Product'].value_counts()"
      ],
      "metadata": {
        "colab": {
          "base_uri": "https://localhost:8080/"
        },
        "id": "z8fMesZp7Vmb",
        "outputId": "90811c9f-1ed5-4f95-e485-ed7bcf0408fb"
      },
      "execution_count": 15,
      "outputs": [
        {
          "output_type": "execute_result",
          "data": {
            "text/plain": [
              "Mortgage                                              91837\n",
              "Credit card or prepaid card                           70241\n",
              "Checking or savings account                           45341\n",
              "Student loan                                          30670\n",
              "Credit reporting                                      29827\n",
              "Money transfer, virtual currency, or money service    22199\n",
              "Credit card                                           18757\n",
              "Vehicle loan or lease                                 17357\n",
              "Bank account or service                               14856\n",
              "Payday loan, title loan, or personal loan             11934\n",
              "Name: Product, dtype: int64"
            ]
          },
          "metadata": {},
          "execution_count": 15
        }
      ]
    },
    {
      "cell_type": "code",
      "source": [
        "# Text Preprocessing using NLTK\n",
        "# function definition for stemming, tokenizing, removing stop words and 'XX' values from complaint strings using NLTK\n",
        "# this will be used on TfidfVectorizer\n",
        "stemmer = nltk.stem.SnowballStemmer('english')\n",
        "nltk.download('stopwords')\n",
        "stop_words = set(nltk.corpus.stopwords.words('english'))\n",
        "def wordTokenizer(text):\n",
        "   # tokenize words using nltk word_tokenize operation and remove unnecessary characters\n",
        "   tokens = [word for word in nltk.word_tokenize(text) if (len(word) > 3 and len(word.strip('Xx/')) > 2 and len(re.sub('\\d+', '', word.strip('Xx/'))) > 3) ] \n",
        "   # convert complaints data into lowercase\n",
        "   # tf-idf consider same word in different case (lowercase/uppercase/camelcase/mixed) formats as different words. \n",
        "   tokens = map(str.lower, tokens)\n",
        "   # stem and return tokens that are not in stop words list\n",
        "   stems = [stemmer.stem(item) for item in tokens if (item not in stop_words)]\n",
        "   return stems"
      ],
      "metadata": {
        "colab": {
          "base_uri": "https://localhost:8080/"
        },
        "id": "wFHWdo-77XRV",
        "outputId": "d8218c37-97b1-41ad-cc99-050b95061e3a"
      },
      "execution_count": 16,
      "outputs": [
        {
          "output_type": "stream",
          "name": "stdout",
          "text": [
            "[nltk_data] Downloading package stopwords to /root/nltk_data...\n",
            "[nltk_data]   Unzipping corpora/stopwords.zip.\n"
          ]
        }
      ]
    },
    {
      "cell_type": "code",
      "source": [
        "# data distribution among selected product classes\n",
        "fig = plt.figure(figsize=(8,6),dpi=70.0)\n",
        "df.groupby('Product').Consumer_Complaint.count().plot.bar(ylim=0)\n",
        "plt.show()"
      ],
      "metadata": {
        "colab": {
          "base_uri": "https://localhost:8080/",
          "height": 617
        },
        "id": "pBTRToiB7ZH6",
        "outputId": "6fbdcbfa-d699-4975-ed9a-0d58930ed8ae"
      },
      "execution_count": 17,
      "outputs": [
        {
          "output_type": "display_data",
          "data": {
            "text/plain": [
              "<Figure size 560x420 with 1 Axes>"
            ],
            "image/png": "[encoded data removed]"
          },
          "metadata": {
            "needs_background": "light"
          }
        }
      ]
    },
    {
      "cell_type": "markdown",
      "source": [
        "==== 2. Creating Feature Vector ===="
      ],
      "metadata": {
        "id": "9FW4kvQEIHa5"
      }
    },
    {
      "cell_type": "code",
      "source": [
        "# dataframe to map product - category_id \n",
        "category_id_df = df[['Product', 'cid']].drop_duplicates().sort_values('cid')\n",
        "category_to_id = dict(category_id_df.values)\n",
        "id_to_category = dict(category_id_df[['cid', 'Product']].values)"
      ],
      "metadata": {
        "id": "TMeD4WpC7b3R"
      },
      "execution_count": 18,
      "outputs": []
    },
    {
      "cell_type": "code",
      "source": [
        "nltk.download('punkt')\n",
        "# tfidf = TfidfVectorizer(sublinear_tf=True, min_df=5, max_df=0.75, norm='l2', encoding='latin-1', ngram_range=(1, 2), stop_words=None, lowercase=False, max_features=1000, tokenizer=wordTokenizer)\n",
        "tfidf = TfidfVectorizer(sublinear_tf=True, norm='l2', encoding='latin-1', ngram_range=(1, 2), stop_words=None, lowercase=False, max_features=1000, tokenizer=wordTokenizer)"
      ],
      "metadata": {
        "colab": {
          "base_uri": "https://localhost:8080/"
        },
        "id": "76FcnsfB7epJ",
        "outputId": "85ce09a1-3e2d-4172-cfbe-d21aae5babd8"
      },
      "execution_count": 19,
      "outputs": [
        {
          "output_type": "stream",
          "name": "stdout",
          "text": [
            "[nltk_data] Downloading package punkt to /root/nltk_data...\n",
            "[nltk_data]   Unzipping tokenizers/punkt.zip.\n"
          ]
        }
      ]
    },
    {
      "cell_type": "code",
      "source": [
        "features = tfidf.fit_transform(df.Consumer_Complaint).toarray()\n",
        "labels = df.cid\n",
        "features.shape"
      ],
      "metadata": {
        "id": "eIhq9AJxxiCT"
      },
      "execution_count": null,
      "outputs": []
    },
    {
      "cell_type": "code",
      "source": [
        "N = 2\n",
        "for Product, cid in sorted(category_to_id.items()):\n",
        "  features_chi2 = chi2(features, labels == cid)\n",
        "  indices = np.argsort(features_chi2[0])\n",
        "  feature_names = np.array(tfidf.get_feature_names_out())[indices]\n",
        "  unigrams = [item for item in feature_names if len(item.split(' ')) == 1]\n",
        "  bigrams = [item for item in feature_names if len(item.split(' ')) == 2]\n",
        "  print(\"# '{}':\".format(Product))\n",
        "  print(\"  . Most correlated unigrams:\\n. {}\".format('\\n. '.join(unigrams[-N:])))\n",
        "  print(\"  . Most correlated bigrams:\\n. {}\".format('\\n. '.join(bigrams[-N:])))"
      ],
      "metadata": {
        "id": "1hLdvsd-7jIS"
      },
      "execution_count": null,
      "outputs": []
    },
    {
      "cell_type": "markdown",
      "source": [
        "**==== 3. Train, Test and Compare Different ML Models ====**"
      ],
      "metadata": {
        "id": "EnPifrnpIPNn"
      }
    },
    {
      "cell_type": "code",
      "source": [
        "X_train, X_test, y_train, y_test = train_test_split(df['Consumer_Complaint'], df['Product'], random_state = 0, test_size=0.2)\n",
        "count_vect = CountVectorizer()\n",
        "X_train_counts = count_vect.fit_transform(X_train)\n",
        "tfidf_transformer = TfidfTransformer()\n",
        "X_train_tfidf = tfidf_transformer.fit_transform(X_train_counts)\n",
        "clf = MultinomialNB().fit(X_train_tfidf, y_train)"
      ],
      "metadata": {
        "id": "t2ApnZtg7mhG"
      },
      "execution_count": null,
      "outputs": []
    },
    {
      "cell_type": "code",
      "source": [
        "print(clf.predict(count_vect.transform([\"This company refuses to provide me verification and validation of debt per my right under the FDCPA. I do not believe this debt is mine.\"])))"
      ],
      "metadata": {
        "id": "B8P1Zvoc7oSC"
      },
      "execution_count": null,
      "outputs": []
    },
    {
      "cell_type": "code",
      "source": [
        "models = [\n",
        "    RandomForestClassifier(n_estimators=200, max_depth=3, random_state=0),\n",
        "    LinearSVC(max_iter=2000),\n",
        "    MultinomialNB(),\n",
        "    LogisticRegression(random_state=0),\n",
        "]\n",
        "CV = 5\n",
        "cv_df = pd.DataFrame(index=range(CV * len(models)))\n",
        "entries = []\n",
        "for model in models:\n",
        "  model_name = model.__class__.__name__\n",
        "  accuracies = cross_val_score(model, features, labels, scoring='accuracy', cv=CV)\n",
        "  for fold_idx, accuracy in enumerate(accuracies):\n",
        "    entries.append((model_name, fold_idx, accuracy))\n",
        "cv_df = pd.DataFrame(entries, columns=['model_name', 'fold_idx', 'accuracy'])\n",
        "\n",
        "sns.boxplot(x='model_name', y='accuracy', data=cv_df)\n",
        "sns.stripplot(x='model_name', y='accuracy', data=cv_df, \n",
        "              size=8, jitter=True, edgecolor=\"gray\", linewidth=2)\n",
        "plt.show()"
      ],
      "metadata": {
        "id": "Cs4-0MlJ8sZM"
      },
      "execution_count": null,
      "outputs": []
    },
    {
      "cell_type": "code",
      "source": [
        "cv_df.groupby('model_name').accuracy.mean()"
      ],
      "metadata": {
        "id": "bnf7PRz08uaO"
      },
      "execution_count": null,
      "outputs": []
    },
    {
      "cell_type": "markdown",
      "source": [
        "**==== 4. Result Discussion ====**"
      ],
      "metadata": {
        "id": "f8ZeuGwUIvX9"
      }
    },
    {
      "cell_type": "code",
      "source": [
        "model = LinearSVC()\n",
        "X_train, X_test, y_train, y_test, indices_train, indices_test = train_test_split(features, labels, df.index, test_size=0.33, random_state=0)\n",
        "model.fit(X_train, y_train)\n",
        "y_pred = model.predict(X_test)\n",
        "from sklearn.metrics import confusion_matrix\n",
        "conf_mat = confusion_matrix(y_test, y_pred)\n",
        "fig, ax = plt.subplots(figsize=(10,10))\n",
        "sns.heatmap(conf_mat, annot=True, fmt='d',\n",
        "            xticklabels=category_id_df.Product.values, yticklabels=category_id_df.Product.values)\n",
        "plt.ylabel('Actual')\n",
        "plt.xlabel('Predicted')\n",
        "plt.show()"
      ],
      "metadata": {
        "id": "hQ0VDzd58wPe"
      },
      "execution_count": null,
      "outputs": []
    },
    {
      "cell_type": "code",
      "source": [
        "for predicted in category_id_df.cid:\n",
        "  for actual in category_id_df.cid:\n",
        "    if predicted != actual and conf_mat[actual, predicted] >= 10:\n",
        "      print(\"'{}' predicted as '{}' : {} examples.\".format(id_to_category[actual], id_to_category[predicted], conf_mat[actual, predicted]))\n",
        "      display(df.loc[indices_test[(y_test == actual) & (y_pred == predicted)]][['Product', 'Consumer_Complaint']])\n",
        "      print('')"
      ],
      "metadata": {
        "id": "3TVplz0z8yEe"
      },
      "execution_count": null,
      "outputs": []
    },
    {
      "cell_type": "code",
      "source": [
        "model.fit(features, labels)\n",
        "N = 2\n",
        "for Product, category_id in sorted(category_to_id.items()):\n",
        "  indices = np.argsort(model.coef_[category_id])\n",
        "  feature_names = np.array(tfidf.get_feature_names_out())[indices]\n",
        "  unigrams = [v for v in reversed(feature_names) if len(v.split(' ')) == 1][:N]\n",
        "  bigrams = [v for v in reversed(feature_names) if len(v.split(' ')) == 2][:N]\n",
        "  print(\"# '{}':\".format(Product))\n",
        "  print(\"  . Top unigrams:\\n       . {}\".format('\\n       . '.join(unigrams)))\n",
        "  print(\"  . Top bigrams:\\n       . {}\".format('\\n       . '.join(bigrams)))"
      ],
      "metadata": {
        "id": "kg2EKcbH80KN"
      },
      "execution_count": null,
      "outputs": []
    },
    {
      "cell_type": "code",
      "source": [
        "print(metrics.classification_report(y_test, y_pred, target_names=df['Product'].unique()))"
      ],
      "metadata": {
        "id": "l8tugMhQ83Hz"
      },
      "execution_count": null,
      "outputs": []
    }
  ]
}