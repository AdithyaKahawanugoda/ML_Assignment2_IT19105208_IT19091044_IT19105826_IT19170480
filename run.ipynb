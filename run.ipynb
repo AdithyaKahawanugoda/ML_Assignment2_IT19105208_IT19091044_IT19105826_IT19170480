{
  "cells": [
    {
      "cell_type": "markdown",
      "metadata": {
        "id": "FHC39MQiH1id"
      },
      "source": [
        "**==== 1 - Data import and pre-processing ====**"
      ]
    },
    {
      "cell_type": "code",
      "execution_count": null,
      "metadata": {
        "colab": {
          "base_uri": "https://localhost:8080/"
        },
        "id": "ya9n59z26xPw",
        "outputId": "5ebd88c6-4eea-4496-ac8a-1b2a4d209720"
      },
      "outputs": [],
      "source": [
        "# dwonload and unzip dataset\n",
        "!wget https://files.consumerfinance.gov/ccdb/complaints.csv.zip\n",
        "!unzip /content/complaints.csv.zip -d /content/complaints.csv\n",
        "# install NLTK\n",
        "!pip install nltk"
      ]
    },
    {
      "cell_type": "code",
      "execution_count": null,
      "metadata": {
        "id": "m0NDpWG369U4"
      },
      "outputs": [],
      "source": [
        "# import required libraries\n",
        "import pandas as pd\n",
        "import numpy as np\n",
        "import matplotlib.pyplot as plt\n",
        "import nltk\n",
        "import re\n",
        "import seaborn as sns\n",
        "import joblib\n",
        "\n",
        "from sklearn.model_selection import train_test_split\n",
        "\n",
        "from sklearn.feature_extraction.text import TfidfVectorizer\n",
        "from sklearn.feature_extraction.text import CountVectorizer\n",
        "from sklearn.feature_extraction.text import TfidfTransformer\n",
        "from sklearn.feature_selection import chi2\n",
        "\n",
        "from sklearn import metrics\n",
        "from sklearn.metrics import roc_auc_score\n",
        "from sklearn.metrics import accuracy_score\n",
        "\n",
        "from sklearn.naive_bayes import MultinomialNB\n",
        "from sklearn.linear_model import LogisticRegression\n",
        "from sklearn.ensemble import RandomForestClassifier\n",
        "from sklearn.svm import LinearSVC\n",
        "from sklearn.model_selection import cross_val_score\n",
        "from io import StringIO\n",
        "\n",
        "from nltk.stem.snowball import SnowballStemmer\n",
        "\n",
        "from IPython.display import display"
      ]
    },
    {
      "cell_type": "code",
      "execution_count": null,
      "metadata": {
        "colab": {
          "base_uri": "https://localhost:8080/"
        },
        "id": "-QYAUg_w7BQE",
        "outputId": "1f741691-7a29-4b87-91ff-82fab46c712c"
      },
      "outputs": [
        {
          "data": {
            "text/plain": [
              "(2693834, 18)"
            ]
          },
          "execution_count": 3,
          "metadata": {},
          "output_type": "execute_result"
        }
      ],
      "source": [
        "# load data into a pandas dataframe from csv file\n",
        "df = pd.read_csv(\"/content/complaints.csv/complaints.csv\",low_memory=False)\n",
        "df.shape"
      ]
    },
    {
      "cell_type": "code",
      "execution_count": null,
      "metadata": {
        "id": "K2YspYLv7IR8"
      },
      "outputs": [],
      "source": [
        "# seperate Product & Consumer Complaints columns from initial dataframe\n",
        "col = ['Product', 'Consumer complaint narrative']\n",
        "df = df[col]"
      ]
    },
    {
      "cell_type": "code",
      "execution_count": null,
      "metadata": {
        "colab": {
          "base_uri": "https://localhost:8080/"
        },
        "id": "Pn7EDR1bK-Kr",
        "outputId": "1248970c-6344-4ba5-c879-a7fbb99a1dfa"
      },
      "outputs": [
        {
          "data": {
            "text/plain": [
              "Credit reporting, credit repair services, or other personal consumer reports    1119247\n",
              "Debt collection                                                                  425150\n",
              "Mortgage                                                                         354535\n",
              "Credit card or prepaid card                                                      145184\n",
              "Credit reporting                                                                 140430\n",
              "Checking or savings account                                                      123369\n",
              "Credit card                                                                       89190\n",
              "Bank account or service                                                           86206\n",
              "Student loan                                                                      67011\n",
              "Money transfer, virtual currency, or money service                                40671\n",
              "Vehicle loan or lease                                                             33068\n",
              "Consumer Loan                                                                     31600\n",
              "Payday loan, title loan, or personal loan                                         22381\n",
              "Payday loan                                                                        5543\n",
              "Money transfers                                                                    5354\n",
              "Prepaid card                                                                       3819\n",
              "Other financial service                                                            1058\n",
              "Virtual currency                                                                     18\n",
              "Name: Product, dtype: int64"
            ]
          },
          "execution_count": 5,
          "metadata": {},
          "output_type": "execute_result"
        }
      ],
      "source": [
        "df['Product'].value_counts()"
      ]
    },
    {
      "cell_type": "code",
      "execution_count": null,
      "metadata": {
        "colab": {
          "base_uri": "https://localhost:8080/"
        },
        "id": "99tzg20yIoSm",
        "outputId": "80cc610a-c4ec-427b-9001-f03bbf52435c"
      },
      "outputs": [
        {
          "data": {
            "text/plain": [
              "Product                               0\n",
              "Consumer complaint narrative    1750971\n",
              "dtype: int64"
            ]
          },
          "execution_count": 6,
          "metadata": {},
          "output_type": "execute_result"
        }
      ],
      "source": [
        "# check null values on complaints\n",
        "df.isnull().sum()"
      ]
    },
    {
      "cell_type": "code",
      "execution_count": null,
      "metadata": {
        "colab": {
          "base_uri": "https://localhost:8080/"
        },
        "id": "R666_JQQHHu4",
        "outputId": "0354356c-4ac7-416d-bb04-1f2fd9784d5e"
      },
      "outputs": [
        {
          "data": {
            "text/plain": [
              "(942863, 2)"
            ]
          },
          "execution_count": 7,
          "metadata": {},
          "output_type": "execute_result"
        }
      ],
      "source": [
        "# keep only 'not null' complaints rows\n",
        "df = df[pd.notnull(df['Consumer complaint narrative'])] \n",
        "df.shape"
      ]
    },
    {
      "cell_type": "code",
      "execution_count": null,
      "metadata": {
        "colab": {
          "base_uri": "https://localhost:8080/"
        },
        "id": "O0Z03G577M0q",
        "outputId": "afe37f80-6ea1-4d67-fea1-6d55e3ca1b79"
      },
      "outputs": [
        {
          "data": {
            "text/plain": [
              "(357009, 2)"
            ]
          },
          "execution_count": 8,
          "metadata": {},
          "output_type": "execute_result"
        }
      ],
      "source": [
        "# since the dataset is imbalanced\n",
        "# remove products with complaints < 10,000\n",
        "# remove products with complaints > 100,000 \n",
        "counts = df['Product'].value_counts()\n",
        "df = df[~df['Product'].isin(counts[counts < 10000].index)]\n",
        "df = df[~df['Product'].isin(counts[counts > 100000].index)]\n",
        "df.shape"
      ]
    },
    {
      "cell_type": "code",
      "execution_count": null,
      "metadata": {
        "colab": {
          "base_uri": "https://localhost:8080/"
        },
        "id": "r5IxRzmPKqGN",
        "outputId": "66cee211-bc90-4671-be75-24c08d20e676"
      },
      "outputs": [
        {
          "data": {
            "text/plain": [
              "Mortgage                                              91969\n",
              "Credit card or prepaid card                           71415\n",
              "Checking or savings account                           45394\n",
              "Credit reporting                                      31588\n",
              "Student loan                                          30813\n",
              "Money transfer, virtual currency, or money service    22485\n",
              "Credit card                                           18838\n",
              "Vehicle loan or lease                                 17640\n",
              "Bank account or service                               14885\n",
              "Payday loan, title loan, or personal loan             11982\n",
              "Name: Product, dtype: int64"
            ]
          },
          "execution_count": 9,
          "metadata": {},
          "output_type": "execute_result"
        }
      ],
      "source": [
        "df['Product'].value_counts()"
      ]
    },
    {
      "cell_type": "code",
      "execution_count": null,
      "metadata": {
        "colab": {
          "base_uri": "https://localhost:8080/"
        },
        "id": "wailA7l77Pkl",
        "outputId": "724118fe-1dc8-4ce4-afbb-a016dd8807dc"
      },
      "outputs": [
        {
          "data": {
            "text/plain": [
              "(353019, 2)"
            ]
          },
          "execution_count": 10,
          "metadata": {},
          "output_type": "execute_result"
        }
      ],
      "source": [
        "# remove duplicated rows in dataframe\n",
        "df = df.drop_duplicates(keep=\"first\")\n",
        "df.shape"
      ]
    },
    {
      "cell_type": "code",
      "execution_count": null,
      "metadata": {
        "colab": {
          "base_uri": "https://localhost:8080/"
        },
        "id": "_nnNHpNWJgBB",
        "outputId": "5fdd16bc-2e2f-44ec-eec8-96ecbd2f5f69"
      },
      "outputs": [
        {
          "data": {
            "text/plain": [
              "Mortgage                                              91837\n",
              "Credit card or prepaid card                           70241\n",
              "Checking or savings account                           45341\n",
              "Student loan                                          30670\n",
              "Credit reporting                                      29827\n",
              "Money transfer, virtual currency, or money service    22199\n",
              "Credit card                                           18757\n",
              "Vehicle loan or lease                                 17357\n",
              "Bank account or service                               14856\n",
              "Payday loan, title loan, or personal loan             11934\n",
              "Name: Product, dtype: int64"
            ]
          },
          "execution_count": 11,
          "metadata": {},
          "output_type": "execute_result"
        }
      ],
      "source": [
        "df['Product'].value_counts()"
      ]
    },
    {
      "cell_type": "code",
      "execution_count": null,
      "metadata": {
        "colab": {
          "base_uri": "https://localhost:8080/",
          "height": 424
        },
        "id": "wcvT0ez38SO_",
        "outputId": "9fc56fe8-2715-4dea-f6eb-ad8dcc3daeab"
      },
      "outputs": [
        {
          "data": {
            "text/html": [
              "\n",
              "  <div id=\"df-f3d9f42e-bab3-460f-a534-bc534e0bfd99\">\n",
              "    <div class=\"colab-df-container\">\n",
              "      <div>\n",
              "<style scoped>\n",
              "    .dataframe tbody tr th:only-of-type {\n",
              "        vertical-align: middle;\n",
              "    }\n",
              "\n",
              "    .dataframe tbody tr th {\n",
              "        vertical-align: top;\n",
              "    }\n",
              "\n",
              "    .dataframe thead th {\n",
              "        text-align: right;\n",
              "    }\n",
              "</style>\n",
              "<table border=\"1\" class=\"dataframe\">\n",
              "  <thead>\n",
              "    <tr style=\"text-align: right;\">\n",
              "      <th></th>\n",
              "      <th>Product</th>\n",
              "      <th>Consumer_Complaint</th>\n",
              "    </tr>\n",
              "  </thead>\n",
              "  <tbody>\n",
              "    <tr>\n",
              "      <th>54</th>\n",
              "      <td>Credit card or prepaid card</td>\n",
              "      <td>Please reopen case XXXX, Nothing has been reso...</td>\n",
              "    </tr>\n",
              "    <tr>\n",
              "      <th>108</th>\n",
              "      <td>Credit card or prepaid card</td>\n",
              "      <td>This was not sent is error i am a consumer by ...</td>\n",
              "    </tr>\n",
              "    <tr>\n",
              "      <th>125</th>\n",
              "      <td>Credit card or prepaid card</td>\n",
              "      <td>I bought 2 {$100.00} XXXX gift cards at XXXX a...</td>\n",
              "    </tr>\n",
              "    <tr>\n",
              "      <th>138</th>\n",
              "      <td>Vehicle loan or lease</td>\n",
              "      <td>Sun coast credit union committed insurance fra...</td>\n",
              "    </tr>\n",
              "    <tr>\n",
              "      <th>147</th>\n",
              "      <td>Vehicle loan or lease</td>\n",
              "      <td>Kia Finance is showing I have a {$10.00} curre...</td>\n",
              "    </tr>\n",
              "    <tr>\n",
              "      <th>...</th>\n",
              "      <td>...</td>\n",
              "      <td>...</td>\n",
              "    </tr>\n",
              "    <tr>\n",
              "      <th>2693824</th>\n",
              "      <td>Credit card</td>\n",
              "      <td>A reward coupon from XXXX expired and American...</td>\n",
              "    </tr>\n",
              "    <tr>\n",
              "      <th>2693826</th>\n",
              "      <td>Credit reporting</td>\n",
              "      <td>Wrong name no XXXX XXXX XXXX and wrong address...</td>\n",
              "    </tr>\n",
              "    <tr>\n",
              "      <th>2693828</th>\n",
              "      <td>Credit card</td>\n",
              "      <td>Automated calls from \" XXXX with Capital One '...</td>\n",
              "    </tr>\n",
              "    <tr>\n",
              "      <th>2693830</th>\n",
              "      <td>Mortgage</td>\n",
              "      <td>My father died in XX/XX/XXXX. Left me his only...</td>\n",
              "    </tr>\n",
              "    <tr>\n",
              "      <th>2693831</th>\n",
              "      <td>Credit reporting</td>\n",
              "      <td>cfbp i would Like to file a complaint on Exper...</td>\n",
              "    </tr>\n",
              "  </tbody>\n",
              "</table>\n",
              "<p>353019 rows × 2 columns</p>\n",
              "</div>\n",
              "      <button class=\"colab-df-convert\" onclick=\"convertToInteractive('df-f3d9f42e-bab3-460f-a534-bc534e0bfd99')\"\n",
              "              title=\"Convert this dataframe to an interactive table.\"\n",
              "              style=\"display:none;\">\n",
              "        \n",
              "  <svg xmlns=\"http://www.w3.org/2000/svg\" height=\"24px\"viewBox=\"0 0 24 24\"\n",
              "       width=\"24px\">\n",
              "    <path d=\"M0 0h24v24H0V0z\" fill=\"none\"/>\n",
              "    <path d=\"M18.56 5.44l.94 2.06.94-2.06 2.06-.94-2.06-.94-.94-2.06-.94 2.06-2.06.94zm-11 1L8.5 8.5l.94-2.06 2.06-.94-2.06-.94L8.5 2.5l-.94 2.06-2.06.94zm10 10l.94 2.06.94-2.06 2.06-.94-2.06-.94-.94-2.06-.94 2.06-2.06.94z\"/><path d=\"M17.41 7.96l-1.37-1.37c-.4-.4-.92-.59-1.43-.59-.52 0-1.04.2-1.43.59L10.3 9.45l-7.72 7.72c-.78.78-.78 2.05 0 2.83L4 21.41c.39.39.9.59 1.41.59.51 0 1.02-.2 1.41-.59l7.78-7.78 2.81-2.81c.8-.78.8-2.07 0-2.86zM5.41 20L4 18.59l7.72-7.72 1.47 1.35L5.41 20z\"/>\n",
              "  </svg>\n",
              "      </button>\n",
              "      \n",
              "  <style>\n",
              "    .colab-df-container {\n",
              "      display:flex;\n",
              "      flex-wrap:wrap;\n",
              "      gap: 12px;\n",
              "    }\n",
              "\n",
              "    .colab-df-convert {\n",
              "      background-color: #E8F0FE;\n",
              "      border: none;\n",
              "      border-radius: 50%;\n",
              "      cursor: pointer;\n",
              "      display: none;\n",
              "      fill: #1967D2;\n",
              "      height: 32px;\n",
              "      padding: 0 0 0 0;\n",
              "      width: 32px;\n",
              "    }\n",
              "\n",
              "    .colab-df-convert:hover {\n",
              "      background-color: #E2EBFA;\n",
              "      box-shadow: 0px 1px 2px rgba(60, 64, 67, 0.3), 0px 1px 3px 1px rgba(60, 64, 67, 0.15);\n",
              "      fill: #174EA6;\n",
              "    }\n",
              "\n",
              "    [theme=dark] .colab-df-convert {\n",
              "      background-color: #3B4455;\n",
              "      fill: #D2E3FC;\n",
              "    }\n",
              "\n",
              "    [theme=dark] .colab-df-convert:hover {\n",
              "      background-color: #434B5C;\n",
              "      box-shadow: 0px 1px 3px 1px rgba(0, 0, 0, 0.15);\n",
              "      filter: drop-shadow(0px 1px 2px rgba(0, 0, 0, 0.3));\n",
              "      fill: #FFFFFF;\n",
              "    }\n",
              "  </style>\n",
              "\n",
              "      <script>\n",
              "        const buttonEl =\n",
              "          document.querySelector('#df-f3d9f42e-bab3-460f-a534-bc534e0bfd99 button.colab-df-convert');\n",
              "        buttonEl.style.display =\n",
              "          google.colab.kernel.accessAllowed ? 'block' : 'none';\n",
              "\n",
              "        async function convertToInteractive(key) {\n",
              "          const element = document.querySelector('#df-f3d9f42e-bab3-460f-a534-bc534e0bfd99');\n",
              "          const dataTable =\n",
              "            await google.colab.kernel.invokeFunction('convertToInteractive',\n",
              "                                                     [key], {});\n",
              "          if (!dataTable) return;\n",
              "\n",
              "          const docLinkHtml = 'Like what you see? Visit the ' +\n",
              "            '<a target=\"_blank\" href=https://colab.research.google.com/notebooks/data_table.ipynb>data table notebook</a>'\n",
              "            + ' to learn more about interactive tables.';\n",
              "          element.innerHTML = '';\n",
              "          dataTable['output_type'] = 'display_data';\n",
              "          await google.colab.output.renderOutput(dataTable, element);\n",
              "          const docLink = document.createElement('div');\n",
              "          docLink.innerHTML = docLinkHtml;\n",
              "          element.appendChild(docLink);\n",
              "        }\n",
              "      </script>\n",
              "    </div>\n",
              "  </div>\n",
              "  "
            ],
            "text/plain": [
              "                             Product  \\\n",
              "54       Credit card or prepaid card   \n",
              "108      Credit card or prepaid card   \n",
              "125      Credit card or prepaid card   \n",
              "138            Vehicle loan or lease   \n",
              "147            Vehicle loan or lease   \n",
              "...                              ...   \n",
              "2693824                  Credit card   \n",
              "2693826             Credit reporting   \n",
              "2693828                  Credit card   \n",
              "2693830                     Mortgage   \n",
              "2693831             Credit reporting   \n",
              "\n",
              "                                        Consumer_Complaint  \n",
              "54       Please reopen case XXXX, Nothing has been reso...  \n",
              "108      This was not sent is error i am a consumer by ...  \n",
              "125      I bought 2 {$100.00} XXXX gift cards at XXXX a...  \n",
              "138      Sun coast credit union committed insurance fra...  \n",
              "147      Kia Finance is showing I have a {$10.00} curre...  \n",
              "...                                                    ...  \n",
              "2693824  A reward coupon from XXXX expired and American...  \n",
              "2693826  Wrong name no XXXX XXXX XXXX and wrong address...  \n",
              "2693828  Automated calls from \" XXXX with Capital One '...  \n",
              "2693830  My father died in XX/XX/XXXX. Left me his only...  \n",
              "2693831  cfbp i would Like to file a complaint on Exper...  \n",
              "\n",
              "[353019 rows x 2 columns]"
            ]
          },
          "execution_count": 12,
          "metadata": {},
          "output_type": "execute_result"
        }
      ],
      "source": [
        "# overwrite colum names into 'Product' & 'Consumer_Complaint'\n",
        "df.columns = ['Product', 'Consumer_Complaint']\n",
        "df"
      ]
    },
    {
      "cell_type": "code",
      "execution_count": null,
      "metadata": {
        "colab": {
          "base_uri": "https://localhost:8080/"
        },
        "id": "auzsYo3VE1Ze",
        "outputId": "a67209fa-86d3-49be-ce8f-339e3c886584"
      },
      "outputs": [
        {
          "data": {
            "text/plain": [
              "(353019, 2)"
            ]
          },
          "execution_count": 13,
          "metadata": {},
          "output_type": "execute_result"
        }
      ],
      "source": [
        "df.shape"
      ]
    },
    {
      "cell_type": "code",
      "execution_count": null,
      "metadata": {
        "colab": {
          "base_uri": "https://localhost:8080/",
          "height": 424
        },
        "id": "fXCiiGKX7TGk",
        "outputId": "477471e0-95df-4f7a-c52b-bf0728da0cd5"
      },
      "outputs": [
        {
          "data": {
            "text/html": [
              "\n",
              "  <div id=\"df-58aa3ec0-ba27-497b-8f5f-a07f48054f50\">\n",
              "    <div class=\"colab-df-container\">\n",
              "      <div>\n",
              "<style scoped>\n",
              "    .dataframe tbody tr th:only-of-type {\n",
              "        vertical-align: middle;\n",
              "    }\n",
              "\n",
              "    .dataframe tbody tr th {\n",
              "        vertical-align: top;\n",
              "    }\n",
              "\n",
              "    .dataframe thead th {\n",
              "        text-align: right;\n",
              "    }\n",
              "</style>\n",
              "<table border=\"1\" class=\"dataframe\">\n",
              "  <thead>\n",
              "    <tr style=\"text-align: right;\">\n",
              "      <th></th>\n",
              "      <th>Product</th>\n",
              "      <th>Consumer_Complaint</th>\n",
              "      <th>cid</th>\n",
              "    </tr>\n",
              "  </thead>\n",
              "  <tbody>\n",
              "    <tr>\n",
              "      <th>108</th>\n",
              "      <td>Credit card or prepaid card</td>\n",
              "      <td>This was not sent is error i am a consumer by ...</td>\n",
              "      <td>0</td>\n",
              "    </tr>\n",
              "    <tr>\n",
              "      <th>125</th>\n",
              "      <td>Credit card or prepaid card</td>\n",
              "      <td>I bought 2 {$100.00} XXXX gift cards at XXXX a...</td>\n",
              "      <td>0</td>\n",
              "    </tr>\n",
              "    <tr>\n",
              "      <th>138</th>\n",
              "      <td>Vehicle loan or lease</td>\n",
              "      <td>Sun coast credit union committed insurance fra...</td>\n",
              "      <td>1</td>\n",
              "    </tr>\n",
              "    <tr>\n",
              "      <th>147</th>\n",
              "      <td>Vehicle loan or lease</td>\n",
              "      <td>Kia Finance is showing I have a {$10.00} curre...</td>\n",
              "      <td>1</td>\n",
              "    </tr>\n",
              "    <tr>\n",
              "      <th>200</th>\n",
              "      <td>Checking or savings account</td>\n",
              "      <td>Banking services or operating as expected. Sun...</td>\n",
              "      <td>2</td>\n",
              "    </tr>\n",
              "    <tr>\n",
              "      <th>...</th>\n",
              "      <td>...</td>\n",
              "      <td>...</td>\n",
              "      <td>...</td>\n",
              "    </tr>\n",
              "    <tr>\n",
              "      <th>2693824</th>\n",
              "      <td>Credit card</td>\n",
              "      <td>A reward coupon from XXXX expired and American...</td>\n",
              "      <td>9</td>\n",
              "    </tr>\n",
              "    <tr>\n",
              "      <th>2693826</th>\n",
              "      <td>Credit reporting</td>\n",
              "      <td>Wrong name no XXXX XXXX XXXX and wrong address...</td>\n",
              "      <td>7</td>\n",
              "    </tr>\n",
              "    <tr>\n",
              "      <th>2693828</th>\n",
              "      <td>Credit card</td>\n",
              "      <td>Automated calls from \" XXXX with Capital One '...</td>\n",
              "      <td>9</td>\n",
              "    </tr>\n",
              "    <tr>\n",
              "      <th>2693830</th>\n",
              "      <td>Mortgage</td>\n",
              "      <td>My father died in XX/XX/XXXX. Left me his only...</td>\n",
              "      <td>4</td>\n",
              "    </tr>\n",
              "    <tr>\n",
              "      <th>2693831</th>\n",
              "      <td>Credit reporting</td>\n",
              "      <td>cfbp i would Like to file a complaint on Exper...</td>\n",
              "      <td>7</td>\n",
              "    </tr>\n",
              "  </tbody>\n",
              "</table>\n",
              "<p>253019 rows × 3 columns</p>\n",
              "</div>\n",
              "      <button class=\"colab-df-convert\" onclick=\"convertToInteractive('df-58aa3ec0-ba27-497b-8f5f-a07f48054f50')\"\n",
              "              title=\"Convert this dataframe to an interactive table.\"\n",
              "              style=\"display:none;\">\n",
              "        \n",
              "  <svg xmlns=\"http://www.w3.org/2000/svg\" height=\"24px\"viewBox=\"0 0 24 24\"\n",
              "       width=\"24px\">\n",
              "    <path d=\"M0 0h24v24H0V0z\" fill=\"none\"/>\n",
              "    <path d=\"M18.56 5.44l.94 2.06.94-2.06 2.06-.94-2.06-.94-.94-2.06-.94 2.06-2.06.94zm-11 1L8.5 8.5l.94-2.06 2.06-.94-2.06-.94L8.5 2.5l-.94 2.06-2.06.94zm10 10l.94 2.06.94-2.06 2.06-.94-2.06-.94-.94-2.06-.94 2.06-2.06.94z\"/><path d=\"M17.41 7.96l-1.37-1.37c-.4-.4-.92-.59-1.43-.59-.52 0-1.04.2-1.43.59L10.3 9.45l-7.72 7.72c-.78.78-.78 2.05 0 2.83L4 21.41c.39.39.9.59 1.41.59.51 0 1.02-.2 1.41-.59l7.78-7.78 2.81-2.81c.8-.78.8-2.07 0-2.86zM5.41 20L4 18.59l7.72-7.72 1.47 1.35L5.41 20z\"/>\n",
              "  </svg>\n",
              "      </button>\n",
              "      \n",
              "  <style>\n",
              "    .colab-df-container {\n",
              "      display:flex;\n",
              "      flex-wrap:wrap;\n",
              "      gap: 12px;\n",
              "    }\n",
              "\n",
              "    .colab-df-convert {\n",
              "      background-color: #E8F0FE;\n",
              "      border: none;\n",
              "      border-radius: 50%;\n",
              "      cursor: pointer;\n",
              "      display: none;\n",
              "      fill: #1967D2;\n",
              "      height: 32px;\n",
              "      padding: 0 0 0 0;\n",
              "      width: 32px;\n",
              "    }\n",
              "\n",
              "    .colab-df-convert:hover {\n",
              "      background-color: #E2EBFA;\n",
              "      box-shadow: 0px 1px 2px rgba(60, 64, 67, 0.3), 0px 1px 3px 1px rgba(60, 64, 67, 0.15);\n",
              "      fill: #174EA6;\n",
              "    }\n",
              "\n",
              "    [theme=dark] .colab-df-convert {\n",
              "      background-color: #3B4455;\n",
              "      fill: #D2E3FC;\n",
              "    }\n",
              "\n",
              "    [theme=dark] .colab-df-convert:hover {\n",
              "      background-color: #434B5C;\n",
              "      box-shadow: 0px 1px 3px 1px rgba(0, 0, 0, 0.15);\n",
              "      filter: drop-shadow(0px 1px 2px rgba(0, 0, 0, 0.3));\n",
              "      fill: #FFFFFF;\n",
              "    }\n",
              "  </style>\n",
              "\n",
              "      <script>\n",
              "        const buttonEl =\n",
              "          document.querySelector('#df-58aa3ec0-ba27-497b-8f5f-a07f48054f50 button.colab-df-convert');\n",
              "        buttonEl.style.display =\n",
              "          google.colab.kernel.accessAllowed ? 'block' : 'none';\n",
              "\n",
              "        async function convertToInteractive(key) {\n",
              "          const element = document.querySelector('#df-58aa3ec0-ba27-497b-8f5f-a07f48054f50');\n",
              "          const dataTable =\n",
              "            await google.colab.kernel.invokeFunction('convertToInteractive',\n",
              "                                                     [key], {});\n",
              "          if (!dataTable) return;\n",
              "\n",
              "          const docLinkHtml = 'Like what you see? Visit the ' +\n",
              "            '<a target=\"_blank\" href=https://colab.research.google.com/notebooks/data_table.ipynb>data table notebook</a>'\n",
              "            + ' to learn more about interactive tables.';\n",
              "          element.innerHTML = '';\n",
              "          dataTable['output_type'] = 'display_data';\n",
              "          await google.colab.output.renderOutput(dataTable, element);\n",
              "          const docLink = document.createElement('div');\n",
              "          docLink.innerHTML = docLinkHtml;\n",
              "          element.appendChild(docLink);\n",
              "        }\n",
              "      </script>\n",
              "    </div>\n",
              "  </div>\n",
              "  "
            ],
            "text/plain": [
              "                             Product  \\\n",
              "108      Credit card or prepaid card   \n",
              "125      Credit card or prepaid card   \n",
              "138            Vehicle loan or lease   \n",
              "147            Vehicle loan or lease   \n",
              "200      Checking or savings account   \n",
              "...                              ...   \n",
              "2693824                  Credit card   \n",
              "2693826             Credit reporting   \n",
              "2693828                  Credit card   \n",
              "2693830                     Mortgage   \n",
              "2693831             Credit reporting   \n",
              "\n",
              "                                        Consumer_Complaint  cid  \n",
              "108      This was not sent is error i am a consumer by ...    0  \n",
              "125      I bought 2 {$100.00} XXXX gift cards at XXXX a...    0  \n",
              "138      Sun coast credit union committed insurance fra...    1  \n",
              "147      Kia Finance is showing I have a {$10.00} curre...    1  \n",
              "200      Banking services or operating as expected. Sun...    2  \n",
              "...                                                    ...  ...  \n",
              "2693824  A reward coupon from XXXX expired and American...    9  \n",
              "2693826  Wrong name no XXXX XXXX XXXX and wrong address...    7  \n",
              "2693828  Automated calls from \" XXXX with Capital One '...    9  \n",
              "2693830  My father died in XX/XX/XXXX. Left me his only...    4  \n",
              "2693831  cfbp i would Like to file a complaint on Exper...    7  \n",
              "\n",
              "[253019 rows x 3 columns]"
            ]
          },
          "execution_count": 15,
          "metadata": {},
          "output_type": "execute_result"
        }
      ],
      "source": [
        "# assign specific id to each product type\n",
        "df['cid'] = df['Product'].factorize()[0]\n",
        "df"
      ]
    },
    {
      "cell_type": "code",
      "execution_count": null,
      "metadata": {
        "colab": {
          "base_uri": "https://localhost:8080/"
        },
        "id": "z8fMesZp7Vmb",
        "outputId": "9926f724-d7a1-4a2d-f0fa-362d910dc71f"
      },
      "outputs": [
        {
          "data": {
            "text/plain": [
              "Mortgage                                              65687\n",
              "Credit card or prepaid card                           50442\n",
              "Checking or savings account                           32546\n",
              "Student loan                                          21942\n",
              "Credit reporting                                      21563\n",
              "Money transfer, virtual currency, or money service    15822\n",
              "Credit card                                           13492\n",
              "Vehicle loan or lease                                 12443\n",
              "Bank account or service                               10564\n",
              "Payday loan, title loan, or personal loan              8518\n",
              "Name: Product, dtype: int64"
            ]
          },
          "execution_count": 16,
          "metadata": {},
          "output_type": "execute_result"
        }
      ],
      "source": [
        "df['Product'].value_counts()"
      ]
    },
    {
      "cell_type": "code",
      "execution_count": null,
      "metadata": {
        "colab": {
          "base_uri": "https://localhost:8080/"
        },
        "id": "wFHWdo-77XRV",
        "outputId": "bfef06b2-0d64-4e51-cf25-9ec4ab5c3d2c"
      },
      "outputs": [
        {
          "name": "stdout",
          "output_type": "stream",
          "text": [
            "[nltk_data] Downloading package stopwords to /root/nltk_data...\n",
            "[nltk_data]   Unzipping corpora/stopwords.zip.\n"
          ]
        }
      ],
      "source": [
        "# Text Preprocessing using NLTK\n",
        "# function definition for stemming, tokenizing, removing stop words and 'XX' values from complaint strings using NLTK\n",
        "# this will be used on TfidfVectorizer\n",
        "stemmer = nltk.stem.SnowballStemmer('english')\n",
        "nltk.download('stopwords')\n",
        "stop_words = set(nltk.corpus.stopwords.words('english'))\n",
        "def wordTokenizer(text):\n",
        "   # tokenize words using nltk word_tokenize operation and remove unnecessary characters\n",
        "   tokens = [word for word in nltk.word_tokenize(text) if (len(word) > 3 and len(word.strip('Xx/')) > 2 and len(re.sub('\\d+', '', word.strip('Xx/'))) > 3) ] \n",
        "   # convert complaints data into lowercase\n",
        "   # tf-idf consider same word in different case (lowercase/uppercase/camelcase/mixed) formats as different words. \n",
        "   tokens = map(str.lower, tokens)\n",
        "   # stem and return tokens that are not in stop words list\n",
        "   stems = [stemmer.stem(item) for item in tokens if (item not in stop_words)]\n",
        "   return stems"
      ]
    },
    {
      "cell_type": "code",
      "execution_count": null,
      "metadata": {
        "colab": {
          "base_uri": "https://localhost:8080/",
          "height": 617
        },
        "id": "pBTRToiB7ZH6",
        "outputId": "b7514ea5-46c8-4868-ceed-2b951c135b09"
      },
      "outputs": [
        {
          "data": {
            "image/png": "[encoded data removed]",
            "text/plain": [
              "<Figure size 560x420 with 1 Axes>"
            ]
          },
          "metadata": {
            "needs_background": "light"
          },
          "output_type": "display_data"
        }
      ],
      "source": [
        "# data distribution among selected product classes\n",
        "fig = plt.figure(figsize=(8,6),dpi=70.0)\n",
        "df.groupby('Product').Consumer_Complaint.count().plot.bar(ylim=0)\n",
        "plt.show()"
      ]
    },
    {
      "cell_type": "markdown",
      "metadata": {
        "id": "9FW4kvQEIHa5"
      },
      "source": [
        "==== 2. Creating Feature Vector ===="
      ]
    },
    {
      "cell_type": "code",
      "execution_count": null,
      "metadata": {
        "id": "TMeD4WpC7b3R"
      },
      "outputs": [],
      "source": [
        "# dataframe to map product - category_id \n",
        "category_id_df = df[['Product', 'cid']].drop_duplicates().sort_values('cid')\n",
        "category_to_id = dict(category_id_df.values)\n",
        "id_to_category = dict(category_id_df[['cid', 'Product']].values)"
      ]
    },
    {
      "cell_type": "code",
      "execution_count": null,
      "metadata": {
        "colab": {
          "base_uri": "https://localhost:8080/"
        },
        "id": "76FcnsfB7epJ",
        "outputId": "899dd093-7692-48d0-b986-e02f62152773"
      },
      "outputs": [
        {
          "name": "stdout",
          "output_type": "stream",
          "text": [
            "[nltk_data] Downloading package punkt to /root/nltk_data...\n",
            "[nltk_data]   Unzipping tokenizers/punkt.zip.\n"
          ]
        },
        {
          "name": "stderr",
          "output_type": "stream",
          "text": [
            "/usr/local/lib/python3.7/dist-packages/sklearn/utils/deprecation.py:87: FutureWarning: Function get_feature_names is deprecated; get_feature_names is deprecated in 1.0 and will be removed in 1.2. Please use get_feature_names_out instead.\n",
            "  warnings.warn(msg, category=FutureWarning)\n"
          ]
        }
      ],
      "source": [
        "nltk.download('punkt')\n",
        "tfidf = TfidfVectorizer(sublinear_tf=True, norm='l2', encoding='latin-1', ngram_range=(1, 2), stop_words=None, lowercase=False, max_features=1000, tokenizer=wordTokenizer)\n",
        "features = tfidf.fit_transform(df.Consumer_Complaint).toarray()\n",
        "DocMatrix = pd.DataFrame(features,columns= tfidf.get_feature_names())"
      ]
    },
    {
      "cell_type": "code",
      "execution_count": null,
      "metadata": {
        "colab": {
          "base_uri": "https://localhost:8080/"
        },
        "id": "eIhq9AJxxiCT",
        "outputId": "710c3ad5-ed58-4670-cd86-0c84fb53dbee"
      },
      "outputs": [
        {
          "data": {
            "text/plain": [
              "(253019, 1000)"
            ]
          },
          "execution_count": 21,
          "metadata": {},
          "output_type": "execute_result"
        }
      ],
      "source": [
        "labels = df.cid\n",
        "features.shape"
      ]
    },
    {
      "cell_type": "code",
      "execution_count": null,
      "metadata": {
        "colab": {
          "base_uri": "https://localhost:8080/"
        },
        "id": "1hLdvsd-7jIS",
        "outputId": "47ad631d-4635-46d2-a196-a04b7cc5dd10"
      },
      "outputs": [
        {
          "name": "stdout",
          "output_type": "stream",
          "text": [
            "# 'Bank account or service':\n",
            "  . Most correlated unigrams:\n",
            ". deposit\n",
            ". overdraft\n",
            "  . Most correlated bigrams:\n",
            ". check account\n",
            ". overdraft fee\n",
            "# 'Checking or savings account':\n",
            "  . Most correlated unigrams:\n",
            ". branch\n",
            ". deposit\n",
            "  . Most correlated bigrams:\n",
            ". save account\n",
            ". check account\n",
            "# 'Credit card':\n",
            "  . Most correlated unigrams:\n",
            ". credit\n",
            ". card\n",
            "  . Most correlated bigrams:\n",
            ". american express\n",
            ". credit card\n",
            "# 'Credit card or prepaid card':\n",
            "  . Most correlated unigrams:\n",
            ". loan\n",
            ". card\n",
            "  . Most correlated bigrams:\n",
            ". american express\n",
            ". credit card\n",
            "# 'Credit reporting':\n",
            "  . Most correlated unigrams:\n",
            ". experian\n",
            ". equifax\n",
            "  . Most correlated bigrams:\n",
            ". credit file\n",
            ". credit report\n",
            "# 'Money transfer, virtual currency, or money service':\n",
            "  . Most correlated unigrams:\n",
            ". paypal\n",
            ". coinbas\n",
            "  . Most correlated bigrams:\n",
            ". money back\n",
            ". bank account\n",
            "# 'Mortgage':\n",
            "  . Most correlated unigrams:\n",
            ". modif\n",
            ". mortgag\n",
            "  . Most correlated bigrams:\n",
            ". mortgag payment\n",
            ". mortgag compani\n",
            "# 'Payday loan, title loan, or personal loan':\n",
            "  . Most correlated unigrams:\n",
            ". lend\n",
            ". loan\n",
            "  . Most correlated bigrams:\n",
            ". line credit\n",
            ". loan amount\n",
            "# 'Student loan':\n",
            "  . Most correlated unigrams:\n",
            ". student\n",
            ". navient\n",
            "  . Most correlated bigrams:\n",
            ". repay plan\n",
            ". student loan\n",
            "# 'Vehicle loan or lease':\n",
            "  . Most correlated unigrams:\n",
            ". dealership\n",
            ". vehicl\n",
            "  . Most correlated bigrams:\n",
            ". day late\n",
            ". late payment\n"
          ]
        }
      ],
      "source": [
        "N = 2\n",
        "for Product, cid in sorted(category_to_id.items()):\n",
        "  features_chi2 = chi2(features, labels == cid)\n",
        "  indices = np.argsort(features_chi2[0])\n",
        "  feature_names = np.array(tfidf.get_feature_names_out())[indices]\n",
        "  unigrams = [item for item in feature_names if len(item.split(' ')) == 1]\n",
        "  bigrams = [item for item in feature_names if len(item.split(' ')) == 2]\n",
        "  print(\"# '{}':\".format(Product))\n",
        "  print(\"  . Most correlated unigrams:\\n. {}\".format('\\n. '.join(unigrams[-N:])))\n",
        "  print(\"  . Most correlated bigrams:\\n. {}\".format('\\n. '.join(bigrams[-N:])))"
      ]
    },
    {
      "cell_type": "markdown",
      "metadata": {
        "id": "EnPifrnpIPNn"
      },
      "source": [
        "**==== 3. Train, Test and Compare Different ML Models ====**"
      ]
    },
    {
      "cell_type": "code",
      "execution_count": null,
      "metadata": {
        "id": "t2ApnZtg7mhG"
      },
      "outputs": [],
      "source": [
        "# Define test and train data\n",
        "X_train, X_test, y_train, y_test = train_test_split(features, labels, random_state = 0, test_size=0.2)\n"
      ]
    },
    {
      "cell_type": "code",
      "execution_count": null,
      "metadata": {
        "colab": {
          "base_uri": "https://localhost:8080/",
          "height": 974
        },
        "id": "Cs4-0MlJ8sZM",
        "outputId": "5770ad49-aa14-4e94-d3f4-fe1c134b35ed"
      },
      "outputs": [
        {
          "name": "stderr",
          "output_type": "stream",
          "text": [
            "/usr/local/lib/python3.7/dist-packages/sklearn/linear_model/_logistic.py:818: ConvergenceWarning: lbfgs failed to converge (status=1):\n",
            "STOP: TOTAL NO. of ITERATIONS REACHED LIMIT.\n",
            "\n",
            "Increase the number of iterations (max_iter) or scale the data as shown in:\n",
            "    https://scikit-learn.org/stable/modules/preprocessing.html\n",
            "Please also refer to the documentation for alternative solver options:\n",
            "    https://scikit-learn.org/stable/modules/linear_model.html#logistic-regression\n",
            "  extra_warning_msg=_LOGISTIC_SOLVER_CONVERGENCE_MSG,\n",
            "/usr/local/lib/python3.7/dist-packages/sklearn/linear_model/_logistic.py:818: ConvergenceWarning: lbfgs failed to converge (status=1):\n",
            "STOP: TOTAL NO. of ITERATIONS REACHED LIMIT.\n",
            "\n",
            "Increase the number of iterations (max_iter) or scale the data as shown in:\n",
            "    https://scikit-learn.org/stable/modules/preprocessing.html\n",
            "Please also refer to the documentation for alternative solver options:\n",
            "    https://scikit-learn.org/stable/modules/linear_model.html#logistic-regression\n",
            "  extra_warning_msg=_LOGISTIC_SOLVER_CONVERGENCE_MSG,\n",
            "/usr/local/lib/python3.7/dist-packages/sklearn/linear_model/_logistic.py:818: ConvergenceWarning: lbfgs failed to converge (status=1):\n",
            "STOP: TOTAL NO. of ITERATIONS REACHED LIMIT.\n",
            "\n",
            "Increase the number of iterations (max_iter) or scale the data as shown in:\n",
            "    https://scikit-learn.org/stable/modules/preprocessing.html\n",
            "Please also refer to the documentation for alternative solver options:\n",
            "    https://scikit-learn.org/stable/modules/linear_model.html#logistic-regression\n",
            "  extra_warning_msg=_LOGISTIC_SOLVER_CONVERGENCE_MSG,\n",
            "/usr/local/lib/python3.7/dist-packages/sklearn/linear_model/_logistic.py:818: ConvergenceWarning: lbfgs failed to converge (status=1):\n",
            "STOP: TOTAL NO. of ITERATIONS REACHED LIMIT.\n",
            "\n",
            "Increase the number of iterations (max_iter) or scale the data as shown in:\n",
            "    https://scikit-learn.org/stable/modules/preprocessing.html\n",
            "Please also refer to the documentation for alternative solver options:\n",
            "    https://scikit-learn.org/stable/modules/linear_model.html#logistic-regression\n",
            "  extra_warning_msg=_LOGISTIC_SOLVER_CONVERGENCE_MSG,\n",
            "/usr/local/lib/python3.7/dist-packages/sklearn/linear_model/_logistic.py:818: ConvergenceWarning: lbfgs failed to converge (status=1):\n",
            "STOP: TOTAL NO. of ITERATIONS REACHED LIMIT.\n",
            "\n",
            "Increase the number of iterations (max_iter) or scale the data as shown in:\n",
            "    https://scikit-learn.org/stable/modules/preprocessing.html\n",
            "Please also refer to the documentation for alternative solver options:\n",
            "    https://scikit-learn.org/stable/modules/linear_model.html#logistic-regression\n",
            "  extra_warning_msg=_LOGISTIC_SOLVER_CONVERGENCE_MSG,\n"
          ]
        },
        {
          "data": {
            "image/png": "[encoded data removed]",
            "text/plain": [
              "<Figure size 432x288 with 1 Axes>"
            ]
          },
          "metadata": {
            "needs_background": "light"
          },
          "output_type": "display_data"
        }
      ],
      "source": [
        "# Define model array to find the best model for comlaints clasification\n",
        "modelsArray = [\n",
        "    RandomForestClassifier(n_estimators=200, max_depth=3, random_state=0),\n",
        "    LinearSVC(max_iter=3000),\n",
        "    MultinomialNB(),\n",
        "    LogisticRegression(random_state=0),\n",
        "]\n",
        "CV = 5 # cross-validation splitting strategy\n",
        "cv_df = pd.DataFrame(index=range(CV * len(modelsArray)))\n",
        "entries = []\n",
        "for model in modelsArray: # itrate through model array\n",
        "  model_name = model.__class__.__name__\n",
        "  accuracies = cross_val_score(model, features, labels, scoring='accuracy', cv=CV) # get cross validation accuracies of models \n",
        "  for fold_idx, accuracy in enumerate(accuracies):\n",
        "    entries.append((model_name, fold_idx, accuracy))\n",
        "cv_df = pd.DataFrame(entries, columns=['model_name', 'fold_idx', 'accuracy'])\n",
        "\n",
        "sns.boxplot(x='model_name', y='accuracy', data=cv_df)\n",
        "sns.stripplot(x='model_name', y='accuracy', data=cv_df, \n",
        "              size=8, jitter=True, edgecolor=\"gray\", linewidth=2)\n",
        "plt.show()# Display the accuracies of each models"
      ]
    },
    {
      "cell_type": "code",
      "execution_count": null,
      "metadata": {
        "colab": {
          "base_uri": "https://localhost:8080/"
        },
        "id": "bnf7PRz08uaO",
        "outputId": "630703c8-baa0-4b32-b5b5-35709efe3c1c"
      },
      "outputs": [
        {
          "data": {
            "text/plain": [
              "model_name\n",
              "LinearSVC                 0.780499\n",
              "LogisticRegression        0.780673\n",
              "MultinomialNB             0.720499\n",
              "RandomForestClassifier    0.472573\n",
              "Name: accuracy, dtype: float64"
            ]
          },
          "execution_count": 25,
          "metadata": {},
          "output_type": "execute_result"
        }
      ],
      "source": [
        "cv_df.groupby('model_name').accuracy.mean() # Display accuracy score of each model"
      ]
    },
    {
      "cell_type": "code",
      "execution_count": null,
      "metadata": {
        "colab": {
          "base_uri": "https://localhost:8080/"
        },
        "id": "Tw_1CX5FxypA",
        "outputId": "800c36a5-79ff-4946-8e47-48d5b42f9754"
      },
      "outputs": [
        {
          "data": {
            "text/plain": [
              "LinearSVC(dual=False)"
            ]
          },
          "execution_count": 26,
          "metadata": {},
          "output_type": "execute_result"
        }
      ],
      "source": [
        "modelSVC = LinearSVC(dual=False)\n",
        "modelSVC.fit(features, labels)"
      ]
    },
    {
      "cell_type": "code",
      "execution_count": null,
      "metadata": {
        "colab": {
          "base_uri": "https://localhost:8080/"
        },
        "id": "GrUvYhpXxyfH",
        "outputId": "68260fb5-2261-4655-e1ef-a0ff8ae69a95"
      },
      "outputs": [
        {
          "data": {
            "text/plain": [
              "array([-0.78297156, -1.17451342, -0.8344435 , -0.95396519, -0.72873314,\n",
              "       -0.84337563, -1.12454416, -0.61271749, -0.99075048, -0.95934587])"
            ]
          },
          "execution_count": 27,
          "metadata": {},
          "output_type": "execute_result"
        }
      ],
      "source": [
        "modelSVC.coef_\n",
        "modelSVC.intercept_"
      ]
    },
    {
      "cell_type": "code",
      "execution_count": null,
      "metadata": {
        "id": "vVbcmlTZxySR"
      },
      "outputs": [],
      "source": [
        "pred = modelSVC.predict(X_test)"
      ]
    },
    {
      "cell_type": "code",
      "execution_count": null,
      "metadata": {
        "colab": {
          "base_uri": "https://localhost:8080/"
        },
        "id": "HBNBbwkGyZdv",
        "outputId": "4ba31bf8-ffc6-4b74-9c21-380db399f94a"
      },
      "outputs": [
        {
          "data": {
            "text/plain": [
              "0.7863212394277133"
            ]
          },
          "execution_count": 29,
          "metadata": {},
          "output_type": "execute_result"
        }
      ],
      "source": [
        "accuracy_score(y_test, pred) "
      ]
    },
    {
      "cell_type": "markdown",
      "metadata": {
        "id": "_DWYHvHGD6Xi"
      },
      "source": [
        "== LinearSVC model with multiple cost factors =="
      ]
    },
    {
      "cell_type": "code",
      "execution_count": null,
      "metadata": {
        "id": "Cggs6jbUyxt7"
      },
      "outputs": [],
      "source": [
        "accuracy = []\n",
        "acc_train = []\n",
        "coefficient = []\n",
        "for c in [0.0001,0.001,0.01,0.1,1,10,100,1000,10000]:\n",
        "    svm = LinearSVC(dual=False, C=c)\n",
        "    svm.fit(X_train, y_train)\n",
        "    coef = svm.coef_\n",
        "    \n",
        "    p_train = svm.predict(X_train)\n",
        "    a_train = accuracy_score(y_train, p_train)\n",
        "    \n",
        "    pred = svm.predict(X_test)\n",
        "    a = accuracy_score(y_test, pred)\n",
        "    \n",
        "    coefficient.append(coef)\n",
        "    acc_train.append(a_train)\n",
        "    accuracy.append(a)"
      ]
    },
    {
      "cell_type": "code",
      "execution_count": null,
      "metadata": {
        "colab": {
          "base_uri": "https://localhost:8080/",
          "height": 353
        },
        "id": "3CKkYJAGy_qf",
        "outputId": "53156ee8-47c6-4d1a-e586-1623ed44ef56"
      },
      "outputs": [
        {
          "data": {
            "image/png": "[encoded data removed]",
            "text/plain": [
              "<Figure size 720x360 with 1 Axes>"
            ]
          },
          "metadata": {
            "needs_background": "light"
          },
          "output_type": "display_data"
        }
      ],
      "source": [
        "cp = [0.0001,0.001,0.01,0.1,1,10,100,1000,10000]\n",
        "\n",
        "plt.subplots(figsize=(10, 5))\n",
        "plt.semilogx(cp, accuracy,'-gD' ,color='red' , label=\"Testi Accuracy\")\n",
        "plt.semilogx(cp, acc_train,'-gD' , label=\"TrainAccuracy\")\n",
        "plt.grid(True)\n",
        "plt.xlabel(\"Cost Parameter\")\n",
        "plt.ylabel(\"Accuracy\")\n",
        "plt.legend()\n",
        "plt.title('Accuracy vs the Cost Parameter')\n",
        "plt.show()"
      ]
    },
    {
      "cell_type": "markdown",
      "metadata": {
        "id": "SSR0sVskEKpO"
      },
      "source": [
        "== LinearSVC model with Penalty l1 =="
      ]
    },
    {
      "cell_type": "code",
      "execution_count": null,
      "metadata": {
        "id": "PyGdKgZzzBA3"
      },
      "outputs": [],
      "source": [
        "accuracy = []\n",
        "acc_train = []\n",
        "coefficient = []\n",
        "for c in [0.0001,0.001,0.01,0.1,1,10,100,1000,10000]:\n",
        "    svm = LinearSVC(dual=False, C=c, penalty='l1', max_iter=3000)\n",
        "    svm.fit(X_train, y_train)\n",
        "    coef = svm.coef_\n",
        "    \n",
        "    p_train = svm.predict(X_train)\n",
        "    a_train = accuracy_score(y_train, p_train)\n",
        "    \n",
        "    pred = svm.predict(X_test)\n",
        "    a = accuracy_score(y_test, pred)\n",
        "    \n",
        "    coefficient.append(coef)\n",
        "    acc_train.append(a_train)\n",
        "    accuracy.append(a)"
      ]
    },
    {
      "cell_type": "code",
      "execution_count": null,
      "metadata": {
        "colab": {
          "base_uri": "https://localhost:8080/",
          "height": 353
        },
        "id": "GMkr_yHZzLn0",
        "outputId": "a26c4a36-63d5-4a7a-aea5-05a91c08f409"
      },
      "outputs": [
        {
          "data": {
            "image/png": "[encoded data removed]",
            "text/plain": [
              "<Figure size 720x360 with 1 Axes>"
            ]
          },
          "metadata": {
            "needs_background": "light"
          },
          "output_type": "display_data"
        }
      ],
      "source": [
        "cp = [0.0001,0.001,0.01,0.1,1,10,100,1000,10000]\n",
        "\n",
        "plt.subplots(figsize=(10, 5))\n",
        "plt.semilogx(cp, accuracy,'-gD' ,color='red' , label=\"TestAccuracy\")\n",
        "plt.semilogx(cp, acc_train,'-gD' , label=\"Train Accuracy\")\n",
        "plt.grid(True)\n",
        "plt.xlabel(\"Cost Parameter\")\n",
        "plt.ylabel(\"Accuracy\")\n",
        "plt.legend()\n",
        "plt.title('Accuracy vs the Cost Parameter with penalty : l1 ')\n",
        "plt.show()"
      ]
    },
    {
      "cell_type": "markdown",
      "metadata": {
        "id": "E8Dpy7zb9W6i"
      },
      "source": [
        "== Save finalized model =="
      ]
    },
    {
      "cell_type": "code",
      "execution_count": null,
      "metadata": {
        "colab": {
          "base_uri": "https://localhost:8080/"
        },
        "id": "4R5OQOQT3FPU",
        "outputId": "6b87bf1c-9b77-471c-ec42-ed0b40004fd4"
      },
      "outputs": [
        {
          "data": {
            "text/plain": [
              "0.7801952414828868"
            ]
          },
          "execution_count": 34,
          "metadata": {},
          "output_type": "execute_result"
        }
      ],
      "source": [
        "finalizedmodel = LinearSVC(dual=False, C=1,  max_iter=2000)\n",
        "finalizedmodel.fit(X_train, y_train)\n",
        "pred = finalizedmodel.predict(X_test)\n",
        "accuracy_score(y_test, pred) "
      ]
    },
    {
      "cell_type": "code",
      "execution_count": null,
      "metadata": {
        "colab": {
          "base_uri": "https://localhost:8080/"
        },
        "id": "IeqAU_HlAL2U",
        "outputId": "c3193d1c-94e1-44eb-c45d-f45dda23afd0"
      },
      "outputs": [
        {
          "data": {
            "text/plain": [
              "['finalized_model.sav']"
            ]
          },
          "execution_count": 35,
          "metadata": {},
          "output_type": "execute_result"
        }
      ],
      "source": [
        "filename = 'finalized_model.sav'\n",
        "joblib.dump(finalizedmodel, filename)"
      ]
    }
  ],
  "metadata": {
    "colab": {
      "collapsed_sections": [],
      "name": "Copy of text_classification-Final.ipynb",
      "provenance": []
    },
    "kernelspec": {
      "display_name": "Python 3",
      "name": "python3"
    },
    "language_info": {
      "name": "python"
    }
  },
  "nbformat": 4,
  "nbformat_minor": 0
}
