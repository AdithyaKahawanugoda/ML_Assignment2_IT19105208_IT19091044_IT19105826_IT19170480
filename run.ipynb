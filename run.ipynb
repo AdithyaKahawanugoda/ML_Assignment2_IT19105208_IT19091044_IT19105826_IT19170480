{
  "cells": [
    {
      "cell_type": "markdown",
      "metadata": {
        "id": "FHC39MQiH1id"
      },
      "source": [
        "**==== 1 - Data import and pre-processing ====**"
      ]
    },
    {
      "cell_type": "code",
      "execution_count": null,
      "metadata": {
        "colab": {
          "base_uri": "https://localhost:8080/"
        },
        "id": "ya9n59z26xPw",
        "outputId": "5ebd88c6-4eea-4496-ac8a-1b2a4d209720"
      },
      "outputs": [],
      "source": [
        "# dwonload and unzip dataset\n",
        "!wget https://files.consumerfinance.gov/ccdb/complaints.csv.zip\n",
        "!unzip /content/complaints.csv.zip -d /content/complaints.csv\n",
        "# install NLTK\n",
        "%pip install nltk"
      ]
    },
    {
      "cell_type": "code",
      "execution_count": null,
      "metadata": {
        "id": "m0NDpWG369U4"
      },
      "outputs": [],
      "source": [
        "# import required libraries\n",
        "import pandas as pd\n",
        "import numpy as np\n",
        "import matplotlib.pyplot as plt\n",
        "import nltk\n",
        "import re\n",
        "import seaborn as sns\n",
        "import joblib\n",
        "\n",
        "from sklearn.model_selection import train_test_split\n",
        "\n",
        "from sklearn.feature_extraction.text import TfidfVectorizer\n",
        "from sklearn.feature_extraction.text import CountVectorizer\n",
        "from sklearn.feature_extraction.text import TfidfTransformer\n",
        "from sklearn.feature_selection import chi2\n",
        "\n",
        "from sklearn import metrics\n",
        "from sklearn.metrics import roc_auc_score\n",
        "from sklearn.metrics import accuracy_score\n",
        "\n",
        "from sklearn.naive_bayes import MultinomialNB\n",
        "from sklearn.linear_model import LogisticRegression\n",
        "from sklearn.ensemble import RandomForestClassifier\n",
        "from sklearn.svm import LinearSVC\n",
        "from sklearn.model_selection import cross_val_score\n",
        "from io import StringIO\n",
        "\n",
        "from nltk.stem.snowball import SnowballStemmer\n",
        "\n",
        "from IPython.display import display"
      ]
    },
    {
      "cell_type": "code",
      "execution_count": 3,
      "metadata": {
        "colab": {
          "base_uri": "https://localhost:8080/"
        },
        "id": "-QYAUg_w7BQE",
        "outputId": "1f741691-7a29-4b87-91ff-82fab46c712c"
      },
      "outputs": [
        {
          "data": {
            "text/plain": [
              "(2693834, 18)"
            ]
          },
          "execution_count": 3,
          "metadata": {},
          "output_type": "execute_result"
        }
      ],
      "source": [
        "# load data into a pandas dataframe from csv file\n",
        "df = pd.read_csv(\"/content/complaints.csv/complaints.csv\",low_memory=False)\n",
        "df.shape"
      ]
    },
    {
      "cell_type": "code",
      "execution_count": 4,
      "metadata": {
        "id": "K2YspYLv7IR8"
      },
      "outputs": [],
      "source": [
        "# seperate Product & Consumer Complaints columns from initial dataframe\n",
        "col = ['Product', 'Consumer complaint narrative']\n",
        "df = df[col]"
      ]
    },
    {
      "cell_type": "code",
      "execution_count": 5,
      "metadata": {
        "colab": {
          "base_uri": "https://localhost:8080/"
        },
        "id": "Pn7EDR1bK-Kr",
        "outputId": "1248970c-6344-4ba5-c879-a7fbb99a1dfa"
      },
      "outputs": [
        {
          "data": {
            "text/plain": [
              "Credit reporting, credit repair services, or other personal consumer reports    1119247\n",
              "Debt collection                                                                  425150\n",
              "Mortgage                                                                         354535\n",
              "Credit card or prepaid card                                                      145184\n",
              "Credit reporting                                                                 140430\n",
              "Checking or savings account                                                      123369\n",
              "Credit card                                                                       89190\n",
              "Bank account or service                                                           86206\n",
              "Student loan                                                                      67011\n",
              "Money transfer, virtual currency, or money service                                40671\n",
              "Vehicle loan or lease                                                             33068\n",
              "Consumer Loan                                                                     31600\n",
              "Payday loan, title loan, or personal loan                                         22381\n",
              "Payday loan                                                                        5543\n",
              "Money transfers                                                                    5354\n",
              "Prepaid card                                                                       3819\n",
              "Other financial service                                                            1058\n",
              "Virtual currency                                                                     18\n",
              "Name: Product, dtype: int64"
            ]
          },
          "execution_count": 5,
          "metadata": {},
          "output_type": "execute_result"
        }
      ],
      "source": [
        "df['Product'].value_counts()"
      ]
    },
    {
      "cell_type": "code",
      "execution_count": 6,
      "metadata": {
        "colab": {
          "base_uri": "https://localhost:8080/"
        },
        "id": "99tzg20yIoSm",
        "outputId": "80cc610a-c4ec-427b-9001-f03bbf52435c"
      },
      "outputs": [
        {
          "data": {
            "text/plain": [
              "Product                               0\n",
              "Consumer complaint narrative    1750971\n",
              "dtype: int64"
            ]
          },
          "execution_count": 6,
          "metadata": {},
          "output_type": "execute_result"
        }
      ],
      "source": [
        "# check null values on complaints\n",
        "df.isnull().sum()"
      ]
    },
    {
      "cell_type": "code",
      "execution_count": 7,
      "metadata": {
        "colab": {
          "base_uri": "https://localhost:8080/"
        },
        "id": "R666_JQQHHu4",
        "outputId": "0354356c-4ac7-416d-bb04-1f2fd9784d5e"
      },
      "outputs": [
        {
          "data": {
            "text/plain": [
              "(942863, 2)"
            ]
          },
          "execution_count": 7,
          "metadata": {},
          "output_type": "execute_result"
        }
      ],
      "source": [
        "# keep only 'not null' complaints rows\n",
        "df = df[pd.notnull(df['Consumer complaint narrative'])] \n",
        "df.shape"
      ]
    },
    {
      "cell_type": "code",
      "execution_count": 8,
      "metadata": {
        "colab": {
          "base_uri": "https://localhost:8080/"
        },
        "id": "O0Z03G577M0q",
        "outputId": "afe37f80-6ea1-4d67-fea1-6d55e3ca1b79"
      },
      "outputs": [
        {
          "data": {
            "text/plain": [
              "(357009, 2)"
            ]
          },
          "execution_count": 8,
          "metadata": {},
          "output_type": "execute_result"
        }
      ],
      "source": [
        "# since the dataset is imbalanced\n",
        "# remove products with complaints < 10,000\n",
        "# remove products with complaints > 100,000 \n",
        "counts = df['Product'].value_counts()\n",
        "df = df[~df['Product'].isin(counts[counts < 10000].index)]\n",
        "df = df[~df['Product'].isin(counts[counts > 100000].index)]\n",
        "df.shape"
      ]
    },
    {
      "cell_type": "code",
      "execution_count": 9,
      "metadata": {
        "colab": {
          "base_uri": "https://localhost:8080/"
        },
        "id": "r5IxRzmPKqGN",
        "outputId": "66cee211-bc90-4671-be75-24c08d20e676"
      },
      "outputs": [
        {
          "data": {
            "text/plain": [
              "Mortgage                                              91969\n",
              "Credit card or prepaid card                           71415\n",
              "Checking or savings account                           45394\n",
              "Credit reporting                                      31588\n",
              "Student loan                                          30813\n",
              "Money transfer, virtual currency, or money service    22485\n",
              "Credit card                                           18838\n",
              "Vehicle loan or lease                                 17640\n",
              "Bank account or service                               14885\n",
              "Payday loan, title loan, or personal loan             11982\n",
              "Name: Product, dtype: int64"
            ]
          },
          "execution_count": 9,
          "metadata": {},
          "output_type": "execute_result"
        }
      ],
      "source": [
        "df['Product'].value_counts()"
      ]
    },
    {
      "cell_type": "code",
      "execution_count": 10,
      "metadata": {
        "colab": {
          "base_uri": "https://localhost:8080/"
        },
        "id": "wailA7l77Pkl",
        "outputId": "724118fe-1dc8-4ce4-afbb-a016dd8807dc"
      },
      "outputs": [
        {
          "data": {
            "text/plain": [
              "(353019, 2)"
            ]
          },
          "execution_count": 10,
          "metadata": {},
          "output_type": "execute_result"
        }
      ],
      "source": [
        "# remove duplicated rows in dataframe\n",
        "df = df.drop_duplicates(keep=\"first\")\n",
        "df.shape"
      ]
    },
    {
      "cell_type": "code",
      "execution_count": 11,
      "metadata": {
        "colab": {
          "base_uri": "https://localhost:8080/"
        },
        "id": "_nnNHpNWJgBB",
        "outputId": "5fdd16bc-2e2f-44ec-eec8-96ecbd2f5f69"
      },
      "outputs": [
        {
          "data": {
            "text/plain": [
              "Mortgage                                              91837\n",
              "Credit card or prepaid card                           70241\n",
              "Checking or savings account                           45341\n",
              "Student loan                                          30670\n",
              "Credit reporting                                      29827\n",
              "Money transfer, virtual currency, or money service    22199\n",
              "Credit card                                           18757\n",
              "Vehicle loan or lease                                 17357\n",
              "Bank account or service                               14856\n",
              "Payday loan, title loan, or personal loan             11934\n",
              "Name: Product, dtype: int64"
            ]
          },
          "execution_count": 11,
          "metadata": {},
          "output_type": "execute_result"
        }
      ],
      "source": [
        "df['Product'].value_counts()"
      ]
    },
    {
      "cell_type": "code",
      "execution_count": 12,
      "metadata": {
        "colab": {
          "base_uri": "https://localhost:8080/",
          "height": 424
        },
        "id": "wcvT0ez38SO_",
        "outputId": "9fc56fe8-2715-4dea-f6eb-ad8dcc3daeab"
      },
      "outputs": [
        {
          "data": {
            "text/html": [
              "\n",
              "  <div id=\"df-f3d9f42e-bab3-460f-a534-bc534e0bfd99\">\n",
              "    <div class=\"colab-df-container\">\n",
              "      <div>\n",
              "<style scoped>\n",
              "    .dataframe tbody tr th:only-of-type {\n",
              "        vertical-align: middle;\n",
              "    }\n",
              "\n",
              "    .dataframe tbody tr th {\n",
              "        vertical-align: top;\n",
              "    }\n",
              "\n",
              "    .dataframe thead th {\n",
              "        text-align: right;\n",
              "    }\n",
              "</style>\n",
              "<table border=\"1\" class=\"dataframe\">\n",
              "  <thead>\n",
              "    <tr style=\"text-align: right;\">\n",
              "      <th></th>\n",
              "      <th>Product</th>\n",
              "      <th>Consumer_Complaint</th>\n",
              "    </tr>\n",
              "  </thead>\n",
              "  <tbody>\n",
              "    <tr>\n",
              "      <th>54</th>\n",
              "      <td>Credit card or prepaid card</td>\n",
              "      <td>Please reopen case XXXX, Nothing has been reso...</td>\n",
              "    </tr>\n",
              "    <tr>\n",
              "      <th>108</th>\n",
              "      <td>Credit card or prepaid card</td>\n",
              "      <td>This was not sent is error i am a consumer by ...</td>\n",
              "    </tr>\n",
              "    <tr>\n",
              "      <th>125</th>\n",
              "      <td>Credit card or prepaid card</td>\n",
              "      <td>I bought 2 {$100.00} XXXX gift cards at XXXX a...</td>\n",
              "    </tr>\n",
              "    <tr>\n",
              "      <th>138</th>\n",
              "      <td>Vehicle loan or lease</td>\n",
              "      <td>Sun coast credit union committed insurance fra...</td>\n",
              "    </tr>\n",
              "    <tr>\n",
              "      <th>147</th>\n",
              "      <td>Vehicle loan or lease</td>\n",
              "      <td>Kia Finance is showing I have a {$10.00} curre...</td>\n",
              "    </tr>\n",
              "    <tr>\n",
              "      <th>...</th>\n",
              "      <td>...</td>\n",
              "      <td>...</td>\n",
              "    </tr>\n",
              "    <tr>\n",
              "      <th>2693824</th>\n",
              "      <td>Credit card</td>\n",
              "      <td>A reward coupon from XXXX expired and American...</td>\n",
              "    </tr>\n",
              "    <tr>\n",
              "      <th>2693826</th>\n",
              "      <td>Credit reporting</td>\n",
              "      <td>Wrong name no XXXX XXXX XXXX and wrong address...</td>\n",
              "    </tr>\n",
              "    <tr>\n",
              "      <th>2693828</th>\n",
              "      <td>Credit card</td>\n",
              "      <td>Automated calls from \" XXXX with Capital One '...</td>\n",
              "    </tr>\n",
              "    <tr>\n",
              "      <th>2693830</th>\n",
              "      <td>Mortgage</td>\n",
              "      <td>My father died in XX/XX/XXXX. Left me his only...</td>\n",
              "    </tr>\n",
              "    <tr>\n",
              "      <th>2693831</th>\n",
              "      <td>Credit reporting</td>\n",
              "      <td>cfbp i would Like to file a complaint on Exper...</td>\n",
              "    </tr>\n",
              "  </tbody>\n",
              "</table>\n",
              "<p>353019 rows × 2 columns</p>\n",
              "</div>\n",
              "      <button class=\"colab-df-convert\" onclick=\"convertToInteractive('df-f3d9f42e-bab3-460f-a534-bc534e0bfd99')\"\n",
              "              title=\"Convert this dataframe to an interactive table.\"\n",
              "              style=\"display:none;\">\n",
              "        \n",
              "  <svg xmlns=\"http://www.w3.org/2000/svg\" height=\"24px\"viewBox=\"0 0 24 24\"\n",
              "       width=\"24px\">\n",
              "    <path d=\"M0 0h24v24H0V0z\" fill=\"none\"/>\n",
              "    <path d=\"M18.56 5.44l.94 2.06.94-2.06 2.06-.94-2.06-.94-.94-2.06-.94 2.06-2.06.94zm-11 1L8.5 8.5l.94-2.06 2.06-.94-2.06-.94L8.5 2.5l-.94 2.06-2.06.94zm10 10l.94 2.06.94-2.06 2.06-.94-2.06-.94-.94-2.06-.94 2.06-2.06.94z\"/><path d=\"M17.41 7.96l-1.37-1.37c-.4-.4-.92-.59-1.43-.59-.52 0-1.04.2-1.43.59L10.3 9.45l-7.72 7.72c-.78.78-.78 2.05 0 2.83L4 21.41c.39.39.9.59 1.41.59.51 0 1.02-.2 1.41-.59l7.78-7.78 2.81-2.81c.8-.78.8-2.07 0-2.86zM5.41 20L4 18.59l7.72-7.72 1.47 1.35L5.41 20z\"/>\n",
              "  </svg>\n",
              "      </button>\n",
              "      \n",
              "  <style>\n",
              "    .colab-df-container {\n",
              "      display:flex;\n",
              "      flex-wrap:wrap;\n",
              "      gap: 12px;\n",
              "    }\n",
              "\n",
              "    .colab-df-convert {\n",
              "      background-color: #E8F0FE;\n",
              "      border: none;\n",
              "      border-radius: 50%;\n",
              "      cursor: pointer;\n",
              "      display: none;\n",
              "      fill: #1967D2;\n",
              "      height: 32px;\n",
              "      padding: 0 0 0 0;\n",
              "      width: 32px;\n",
              "    }\n",
              "\n",
              "    .colab-df-convert:hover {\n",
              "      background-color: #E2EBFA;\n",
              "      box-shadow: 0px 1px 2px rgba(60, 64, 67, 0.3), 0px 1px 3px 1px rgba(60, 64, 67, 0.15);\n",
              "      fill: #174EA6;\n",
              "    }\n",
              "\n",
              "    [theme=dark] .colab-df-convert {\n",
              "      background-color: #3B4455;\n",
              "      fill: #D2E3FC;\n",
              "    }\n",
              "\n",
              "    [theme=dark] .colab-df-convert:hover {\n",
              "      background-color: #434B5C;\n",
              "      box-shadow: 0px 1px 3px 1px rgba(0, 0, 0, 0.15);\n",
              "      filter: drop-shadow(0px 1px 2px rgba(0, 0, 0, 0.3));\n",
              "      fill: #FFFFFF;\n",
              "    }\n",
              "  </style>\n",
              "\n",
              "      <script>\n",
              "        const buttonEl =\n",
              "          document.querySelector('#df-f3d9f42e-bab3-460f-a534-bc534e0bfd99 button.colab-df-convert');\n",
              "        buttonEl.style.display =\n",
              "          google.colab.kernel.accessAllowed ? 'block' : 'none';\n",
              "\n",
              "        async function convertToInteractive(key) {\n",
              "          const element = document.querySelector('#df-f3d9f42e-bab3-460f-a534-bc534e0bfd99');\n",
              "          const dataTable =\n",
              "            await google.colab.kernel.invokeFunction('convertToInteractive',\n",
              "                                                     [key], {});\n",
              "          if (!dataTable) return;\n",
              "\n",
              "          const docLinkHtml = 'Like what you see? Visit the ' +\n",
              "            '<a target=\"_blank\" href=https://colab.research.google.com/notebooks/data_table.ipynb>data table notebook</a>'\n",
              "            + ' to learn more about interactive tables.';\n",
              "          element.innerHTML = '';\n",
              "          dataTable['output_type'] = 'display_data';\n",
              "          await google.colab.output.renderOutput(dataTable, element);\n",
              "          const docLink = document.createElement('div');\n",
              "          docLink.innerHTML = docLinkHtml;\n",
              "          element.appendChild(docLink);\n",
              "        }\n",
              "      </script>\n",
              "    </div>\n",
              "  </div>\n",
              "  "
            ],
            "text/plain": [
              "                             Product  \\\n",
              "54       Credit card or prepaid card   \n",
              "108      Credit card or prepaid card   \n",
              "125      Credit card or prepaid card   \n",
              "138            Vehicle loan or lease   \n",
              "147            Vehicle loan or lease   \n",
              "...                              ...   \n",
              "2693824                  Credit card   \n",
              "2693826             Credit reporting   \n",
              "2693828                  Credit card   \n",
              "2693830                     Mortgage   \n",
              "2693831             Credit reporting   \n",
              "\n",
              "                                        Consumer_Complaint  \n",
              "54       Please reopen case XXXX, Nothing has been reso...  \n",
              "108      This was not sent is error i am a consumer by ...  \n",
              "125      I bought 2 {$100.00} XXXX gift cards at XXXX a...  \n",
              "138      Sun coast credit union committed insurance fra...  \n",
              "147      Kia Finance is showing I have a {$10.00} curre...  \n",
              "...                                                    ...  \n",
              "2693824  A reward coupon from XXXX expired and American...  \n",
              "2693826  Wrong name no XXXX XXXX XXXX and wrong address...  \n",
              "2693828  Automated calls from \" XXXX with Capital One '...  \n",
              "2693830  My father died in XX/XX/XXXX. Left me his only...  \n",
              "2693831  cfbp i would Like to file a complaint on Exper...  \n",
              "\n",
              "[353019 rows x 2 columns]"
            ]
          },
          "execution_count": 12,
          "metadata": {},
          "output_type": "execute_result"
        }
      ],
      "source": [
        "# overwrite colum names into 'Product' & 'Consumer_Complaint'\n",
        "df.columns = ['Product', 'Consumer_Complaint']\n",
        "df"
      ]
    },
    {
      "cell_type": "code",
      "execution_count": 13,
      "metadata": {
        "colab": {
          "base_uri": "https://localhost:8080/"
        },
        "id": "auzsYo3VE1Ze",
        "outputId": "a67209fa-86d3-49be-ce8f-339e3c886584"
      },
      "outputs": [
        {
          "data": {
            "text/plain": [
              "(353019, 2)"
            ]
          },
          "execution_count": 13,
          "metadata": {},
          "output_type": "execute_result"
        }
      ],
      "source": [
        "df.shape"
      ]
    },
    {
      "cell_type": "code",
      "execution_count": 15,
      "metadata": {
        "colab": {
          "base_uri": "https://localhost:8080/",
          "height": 424
        },
        "id": "fXCiiGKX7TGk",
        "outputId": "477471e0-95df-4f7a-c52b-bf0728da0cd5"
      },
      "outputs": [
        {
          "data": {
            "text/html": [
              "\n",
              "  <div id=\"df-58aa3ec0-ba27-497b-8f5f-a07f48054f50\">\n",
              "    <div class=\"colab-df-container\">\n",
              "      <div>\n",
              "<style scoped>\n",
              "    .dataframe tbody tr th:only-of-type {\n",
              "        vertical-align: middle;\n",
              "    }\n",
              "\n",
              "    .dataframe tbody tr th {\n",
              "        vertical-align: top;\n",
              "    }\n",
              "\n",
              "    .dataframe thead th {\n",
              "        text-align: right;\n",
              "    }\n",
              "</style>\n",
              "<table border=\"1\" class=\"dataframe\">\n",
              "  <thead>\n",
              "    <tr style=\"text-align: right;\">\n",
              "      <th></th>\n",
              "      <th>Product</th>\n",
              "      <th>Consumer_Complaint</th>\n",
              "      <th>cid</th>\n",
              "    </tr>\n",
              "  </thead>\n",
              "  <tbody>\n",
              "    <tr>\n",
              "      <th>108</th>\n",
              "      <td>Credit card or prepaid card</td>\n",
              "      <td>This was not sent is error i am a consumer by ...</td>\n",
              "      <td>0</td>\n",
              "    </tr>\n",
              "    <tr>\n",
              "      <th>125</th>\n",
              "      <td>Credit card or prepaid card</td>\n",
              "      <td>I bought 2 {$100.00} XXXX gift cards at XXXX a...</td>\n",
              "      <td>0</td>\n",
              "    </tr>\n",
              "    <tr>\n",
              "      <th>138</th>\n",
              "      <td>Vehicle loan or lease</td>\n",
              "      <td>Sun coast credit union committed insurance fra...</td>\n",
              "      <td>1</td>\n",
              "    </tr>\n",
              "    <tr>\n",
              "      <th>147</th>\n",
              "      <td>Vehicle loan or lease</td>\n",
              "      <td>Kia Finance is showing I have a {$10.00} curre...</td>\n",
              "      <td>1</td>\n",
              "    </tr>\n",
              "    <tr>\n",
              "      <th>200</th>\n",
              "      <td>Checking or savings account</td>\n",
              "      <td>Banking services or operating as expected. Sun...</td>\n",
              "      <td>2</td>\n",
              "    </tr>\n",
              "    <tr>\n",
              "      <th>...</th>\n",
              "      <td>...</td>\n",
              "      <td>...</td>\n",
              "      <td>...</td>\n",
              "    </tr>\n",
              "    <tr>\n",
              "      <th>2693824</th>\n",
              "      <td>Credit card</td>\n",
              "      <td>A reward coupon from XXXX expired and American...</td>\n",
              "      <td>9</td>\n",
              "    </tr>\n",
              "    <tr>\n",
              "      <th>2693826</th>\n",
              "      <td>Credit reporting</td>\n",
              "      <td>Wrong name no XXXX XXXX XXXX and wrong address...</td>\n",
              "      <td>7</td>\n",
              "    </tr>\n",
              "    <tr>\n",
              "      <th>2693828</th>\n",
              "      <td>Credit card</td>\n",
              "      <td>Automated calls from \" XXXX with Capital One '...</td>\n",
              "      <td>9</td>\n",
              "    </tr>\n",
              "    <tr>\n",
              "      <th>2693830</th>\n",
              "      <td>Mortgage</td>\n",
              "      <td>My father died in XX/XX/XXXX. Left me his only...</td>\n",
              "      <td>4</td>\n",
              "    </tr>\n",
              "    <tr>\n",
              "      <th>2693831</th>\n",
              "      <td>Credit reporting</td>\n",
              "      <td>cfbp i would Like to file a complaint on Exper...</td>\n",
              "      <td>7</td>\n",
              "    </tr>\n",
              "  </tbody>\n",
              "</table>\n",
              "<p>253019 rows × 3 columns</p>\n",
              "</div>\n",
              "      <button class=\"colab-df-convert\" onclick=\"convertToInteractive('df-58aa3ec0-ba27-497b-8f5f-a07f48054f50')\"\n",
              "              title=\"Convert this dataframe to an interactive table.\"\n",
              "              style=\"display:none;\">\n",
              "        \n",
              "  <svg xmlns=\"http://www.w3.org/2000/svg\" height=\"24px\"viewBox=\"0 0 24 24\"\n",
              "       width=\"24px\">\n",
              "    <path d=\"M0 0h24v24H0V0z\" fill=\"none\"/>\n",
              "    <path d=\"M18.56 5.44l.94 2.06.94-2.06 2.06-.94-2.06-.94-.94-2.06-.94 2.06-2.06.94zm-11 1L8.5 8.5l.94-2.06 2.06-.94-2.06-.94L8.5 2.5l-.94 2.06-2.06.94zm10 10l.94 2.06.94-2.06 2.06-.94-2.06-.94-.94-2.06-.94 2.06-2.06.94z\"/><path d=\"M17.41 7.96l-1.37-1.37c-.4-.4-.92-.59-1.43-.59-.52 0-1.04.2-1.43.59L10.3 9.45l-7.72 7.72c-.78.78-.78 2.05 0 2.83L4 21.41c.39.39.9.59 1.41.59.51 0 1.02-.2 1.41-.59l7.78-7.78 2.81-2.81c.8-.78.8-2.07 0-2.86zM5.41 20L4 18.59l7.72-7.72 1.47 1.35L5.41 20z\"/>\n",
              "  </svg>\n",
              "      </button>\n",
              "      \n",
              "  <style>\n",
              "    .colab-df-container {\n",
              "      display:flex;\n",
              "      flex-wrap:wrap;\n",
              "      gap: 12px;\n",
              "    }\n",
              "\n",
              "    .colab-df-convert {\n",
              "      background-color: #E8F0FE;\n",
              "      border: none;\n",
              "      border-radius: 50%;\n",
              "      cursor: pointer;\n",
              "      display: none;\n",
              "      fill: #1967D2;\n",
              "      height: 32px;\n",
              "      padding: 0 0 0 0;\n",
              "      width: 32px;\n",
              "    }\n",
              "\n",
              "    .colab-df-convert:hover {\n",
              "      background-color: #E2EBFA;\n",
              "      box-shadow: 0px 1px 2px rgba(60, 64, 67, 0.3), 0px 1px 3px 1px rgba(60, 64, 67, 0.15);\n",
              "      fill: #174EA6;\n",
              "    }\n",
              "\n",
              "    [theme=dark] .colab-df-convert {\n",
              "      background-color: #3B4455;\n",
              "      fill: #D2E3FC;\n",
              "    }\n",
              "\n",
              "    [theme=dark] .colab-df-convert:hover {\n",
              "      background-color: #434B5C;\n",
              "      box-shadow: 0px 1px 3px 1px rgba(0, 0, 0, 0.15);\n",
              "      filter: drop-shadow(0px 1px 2px rgba(0, 0, 0, 0.3));\n",
              "      fill: #FFFFFF;\n",
              "    }\n",
              "  </style>\n",
              "\n",
              "      <script>\n",
              "        const buttonEl =\n",
              "          document.querySelector('#df-58aa3ec0-ba27-497b-8f5f-a07f48054f50 button.colab-df-convert');\n",
              "        buttonEl.style.display =\n",
              "          google.colab.kernel.accessAllowed ? 'block' : 'none';\n",
              "\n",
              "        async function convertToInteractive(key) {\n",
              "          const element = document.querySelector('#df-58aa3ec0-ba27-497b-8f5f-a07f48054f50');\n",
              "          const dataTable =\n",
              "            await google.colab.kernel.invokeFunction('convertToInteractive',\n",
              "                                                     [key], {});\n",
              "          if (!dataTable) return;\n",
              "\n",
              "          const docLinkHtml = 'Like what you see? Visit the ' +\n",
              "            '<a target=\"_blank\" href=https://colab.research.google.com/notebooks/data_table.ipynb>data table notebook</a>'\n",
              "            + ' to learn more about interactive tables.';\n",
              "          element.innerHTML = '';\n",
              "          dataTable['output_type'] = 'display_data';\n",
              "          await google.colab.output.renderOutput(dataTable, element);\n",
              "          const docLink = document.createElement('div');\n",
              "          docLink.innerHTML = docLinkHtml;\n",
              "          element.appendChild(docLink);\n",
              "        }\n",
              "      </script>\n",
              "    </div>\n",
              "  </div>\n",
              "  "
            ],
            "text/plain": [
              "                             Product  \\\n",
              "108      Credit card or prepaid card   \n",
              "125      Credit card or prepaid card   \n",
              "138            Vehicle loan or lease   \n",
              "147            Vehicle loan or lease   \n",
              "200      Checking or savings account   \n",
              "...                              ...   \n",
              "2693824                  Credit card   \n",
              "2693826             Credit reporting   \n",
              "2693828                  Credit card   \n",
              "2693830                     Mortgage   \n",
              "2693831             Credit reporting   \n",
              "\n",
              "                                        Consumer_Complaint  cid  \n",
              "108      This was not sent is error i am a consumer by ...    0  \n",
              "125      I bought 2 {$100.00} XXXX gift cards at XXXX a...    0  \n",
              "138      Sun coast credit union committed insurance fra...    1  \n",
              "147      Kia Finance is showing I have a {$10.00} curre...    1  \n",
              "200      Banking services or operating as expected. Sun...    2  \n",
              "...                                                    ...  ...  \n",
              "2693824  A reward coupon from XXXX expired and American...    9  \n",
              "2693826  Wrong name no XXXX XXXX XXXX and wrong address...    7  \n",
              "2693828  Automated calls from \" XXXX with Capital One '...    9  \n",
              "2693830  My father died in XX/XX/XXXX. Left me his only...    4  \n",
              "2693831  cfbp i would Like to file a complaint on Exper...    7  \n",
              "\n",
              "[253019 rows x 3 columns]"
            ]
          },
          "execution_count": 15,
          "metadata": {},
          "output_type": "execute_result"
        }
      ],
      "source": [
        "# assign specific id to each product type\n",
        "df['cid'] = df['Product'].factorize()[0]\n",
        "df"
      ]
    },
    {
      "cell_type": "code",
      "execution_count": 16,
      "metadata": {
        "colab": {
          "base_uri": "https://localhost:8080/"
        },
        "id": "z8fMesZp7Vmb",
        "outputId": "9926f724-d7a1-4a2d-f0fa-362d910dc71f"
      },
      "outputs": [
        {
          "data": {
            "text/plain": [
              "Mortgage                                              65687\n",
              "Credit card or prepaid card                           50442\n",
              "Checking or savings account                           32546\n",
              "Student loan                                          21942\n",
              "Credit reporting                                      21563\n",
              "Money transfer, virtual currency, or money service    15822\n",
              "Credit card                                           13492\n",
              "Vehicle loan or lease                                 12443\n",
              "Bank account or service                               10564\n",
              "Payday loan, title loan, or personal loan              8518\n",
              "Name: Product, dtype: int64"
            ]
          },
          "execution_count": 16,
          "metadata": {},
          "output_type": "execute_result"
        }
      ],
      "source": [
        "df['Product'].value_counts()"
      ]
    },
    {
      "cell_type": "code",
      "execution_count": 17,
      "metadata": {
        "colab": {
          "base_uri": "https://localhost:8080/"
        },
        "id": "wFHWdo-77XRV",
        "outputId": "bfef06b2-0d64-4e51-cf25-9ec4ab5c3d2c"
      },
      "outputs": [
        {
          "name": "stdout",
          "output_type": "stream",
          "text": [
            "[nltk_data] Downloading package stopwords to /root/nltk_data...\n",
            "[nltk_data]   Unzipping corpora/stopwords.zip.\n"
          ]
        }
      ],
      "source": [
        "# Text Preprocessing using NLTK\n",
        "# function definition for stemming, tokenizing, removing stop words and 'XX' values from complaint strings using NLTK\n",
        "# this will be used on TfidfVectorizer\n",
        "stemmer = nltk.stem.SnowballStemmer('english')\n",
        "nltk.download('stopwords')\n",
        "stop_words = set(nltk.corpus.stopwords.words('english'))\n",
        "def wordTokenizer(text):\n",
        "   # tokenize words using nltk word_tokenize operation and remove unnecessary characters\n",
        "   tokens = [word for word in nltk.word_tokenize(text) if (len(word) > 3 and len(word.strip('Xx/')) > 2 and len(re.sub('\\d+', '', word.strip('Xx/'))) > 3) ] \n",
        "   # convert complaints data into lowercase\n",
        "   # tf-idf consider same word in different case (lowercase/uppercase/camelcase/mixed) formats as different words. \n",
        "   tokens = map(str.lower, tokens)\n",
        "   # stem and return tokens that are not in stop words list\n",
        "   stems = [stemmer.stem(item) for item in tokens if (item not in stop_words)]\n",
        "   return stems"
      ]
    },
    {
      "cell_type": "code",
      "execution_count": 18,
      "metadata": {
        "colab": {
          "base_uri": "https://localhost:8080/",
          "height": 617
        },
        "id": "pBTRToiB7ZH6",
        "outputId": "b7514ea5-46c8-4868-ceed-2b951c135b09"
      },
      "outputs": [
        {
          "data": {
            "image/png": "[encoded data removed]",
            "text/plain": [
              "<Figure size 560x420 with 1 Axes>"
            ]
          },
          "metadata": {
            "needs_background": "light"
          },
          "output_type": "display_data"
        }
      ],
      "source": [
        "# data distribution among selected product classes\n",
        "fig = plt.figure(figsize=(8,6),dpi=75.0)\n",
        "df.groupby('Product').Consumer_Complaint.count().plot.bar(ylim=0)\n",
        "plt.show()"
      ]
    }
  ],
  "metadata": {
    "colab": {
      "collapsed_sections": [],
      "name": "text_classification-Final.ipynb",
      "provenance": []
    },
    "interpreter": {
      "hash": "369f2c481f4da34e4445cda3fffd2e751bd1c4d706f27375911949ba6bb62e1c"
    },
    "kernelspec": {
      "display_name": "Python 3.10.1 64-bit",
      "language": "python",
      "name": "python3"
    },
    "language_info": {
      "codemirror_mode": {
        "name": "ipython",
        "version": 3
      },
      "file_extension": ".py",
      "mimetype": "text/x-python",
      "name": "python",
      "nbconvert_exporter": "python",
      "pygments_lexer": "ipython3",
      "version": "3.10.1"
    }
  },
  "nbformat": 4,
  "nbformat_minor": 0
}
